{
 "cells": [
  {
   "cell_type": "code",
   "execution_count": 1,
   "outputs": [],
   "source": [
    "import joblib\n",
    "import numpy as np\n",
    "import os\n",
    "import spacy\n",
    "import pandas as pd\n",
    "\n",
    "from gensim.models.callbacks import CallbackAny2Vec\n",
    "from gensim.models.doc2vec import Doc2Vec, TaggedDocument\n",
    "from sklearn.model_selection import train_test_split, GridSearchCV\n",
    "from sklearn.metrics import accuracy_score\n",
    "from sklearn.ensemble import RandomForestClassifier\n",
    "from sklearn.naive_bayes import GaussianNB\n",
    "from sklearn.neighbors import KNeighborsClassifier\n",
    "from sklearn.svm import SVC\n",
    "from sklearn.linear_model import LogisticRegression\n",
    "from sklearn.tree import DecisionTreeClassifier\n",
    "from sklearn.neural_network import MLPClassifier\n",
    "from sklearn.preprocessing import LabelEncoder\n",
    "from xgboost import XGBClassifier"
   ],
   "metadata": {
    "collapsed": false,
    "ExecuteTime": {
     "end_time": "2025-03-10T21:59:26.781549700Z",
     "start_time": "2025-03-10T21:59:22.973222200Z"
    }
   },
   "id": "5e1d2aaf214edd8a"
  },
  {
   "cell_type": "code",
   "execution_count": 2,
   "id": "initial_id",
   "metadata": {
    "collapsed": true,
    "ExecuteTime": {
     "end_time": "2025-03-10T21:59:29.261019400Z",
     "start_time": "2025-03-10T21:59:29.170469300Z"
    }
   },
   "outputs": [
    {
     "data": {
      "text/plain": "                       Domain                 Class  \\\n0  Astrophysics and Astronomy  Human-generated text   \n1  Astrophysics and Astronomy  Human-generated text   \n2  Astrophysics and Astronomy  Human-generated text   \n3  Astrophysics and Astronomy  Human-generated text   \n4  Astrophysics and Astronomy  Human-generated text   \n\n                                                Text  \n0  Low-thrust electric propulsion offers a higher...  \n1  Relative navigation is one of the key enable t...  \n2  In recent years, the technology of space tethe...  \n3  In celestial mechanics and mathematics, dynami...  \n4  The study of attitude dynamics within a three-...  ",
      "text/html": "<div>\n<style scoped>\n    .dataframe tbody tr th:only-of-type {\n        vertical-align: middle;\n    }\n\n    .dataframe tbody tr th {\n        vertical-align: top;\n    }\n\n    .dataframe thead th {\n        text-align: right;\n    }\n</style>\n<table border=\"1\" class=\"dataframe\">\n  <thead>\n    <tr style=\"text-align: right;\">\n      <th></th>\n      <th>Domain</th>\n      <th>Class</th>\n      <th>Text</th>\n    </tr>\n  </thead>\n  <tbody>\n    <tr>\n      <th>0</th>\n      <td>Astrophysics and Astronomy</td>\n      <td>Human-generated text</td>\n      <td>Low-thrust electric propulsion offers a higher...</td>\n    </tr>\n    <tr>\n      <th>1</th>\n      <td>Astrophysics and Astronomy</td>\n      <td>Human-generated text</td>\n      <td>Relative navigation is one of the key enable t...</td>\n    </tr>\n    <tr>\n      <th>2</th>\n      <td>Astrophysics and Astronomy</td>\n      <td>Human-generated text</td>\n      <td>In recent years, the technology of space tethe...</td>\n    </tr>\n    <tr>\n      <th>3</th>\n      <td>Astrophysics and Astronomy</td>\n      <td>Human-generated text</td>\n      <td>In celestial mechanics and mathematics, dynami...</td>\n    </tr>\n    <tr>\n      <th>4</th>\n      <td>Astrophysics and Astronomy</td>\n      <td>Human-generated text</td>\n      <td>The study of attitude dynamics within a three-...</td>\n    </tr>\n  </tbody>\n</table>\n</div>"
     },
     "execution_count": 2,
     "metadata": {},
     "output_type": "execute_result"
    }
   ],
   "source": [
    "df_csv = pd.read_csv(\"../data/dataset_2/AIGTxt_DataSet.csv\")\n",
    "df = pd.melt(df_csv, id_vars=['Domain'], value_vars=['Human-generated text', 'ChatGPT-generated text', 'Mixed text'],\n",
    "                  var_name='Class', value_name='Text')\n",
    "df.head()"
   ]
  },
  {
   "cell_type": "code",
   "execution_count": 3,
   "outputs": [
    {
     "name": "stdout",
     "output_type": "stream",
     "text": [
      "<class 'pandas.core.frame.DataFrame'>\n",
      "RangeIndex: 3000 entries, 0 to 2999\n",
      "Data columns (total 3 columns):\n",
      " #   Column  Non-Null Count  Dtype \n",
      "---  ------  --------------  ----- \n",
      " 0   Domain  3000 non-null   object\n",
      " 1   Class   3000 non-null   object\n",
      " 2   Text    3000 non-null   object\n",
      "dtypes: object(3)\n",
      "memory usage: 70.4+ KB\n"
     ]
    }
   ],
   "source": [
    "df.info()"
   ],
   "metadata": {
    "collapsed": false,
    "ExecuteTime": {
     "end_time": "2025-03-10T21:59:30.435776Z",
     "start_time": "2025-03-10T21:59:30.362967Z"
    }
   },
   "id": "729fb714b883729d"
  },
  {
   "cell_type": "markdown",
   "source": [],
   "metadata": {
    "collapsed": false
   },
   "id": "50eec21a67e438db"
  },
  {
   "cell_type": "code",
   "execution_count": 4,
   "outputs": [],
   "source": [
    "nlp = spacy.load('en_core_web_sm')\n",
    "\n",
    "def clean_text(text):\n",
    "    doc = nlp(text.lower())\n",
    "    tokens = [token.text for token in doc if token.is_alpha or token.is_digit]\n",
    "    return tokens"
   ],
   "metadata": {
    "collapsed": false,
    "ExecuteTime": {
     "end_time": "2025-03-10T21:59:53.571174400Z",
     "start_time": "2025-03-10T21:59:52.701277Z"
    }
   },
   "id": "1bedcc5402131532"
  },
  {
   "cell_type": "code",
   "execution_count": 5,
   "outputs": [
    {
     "data": {
      "text/plain": "                       Domain                 Class  \\\n0  Astrophysics and Astronomy  Human-generated text   \n1  Astrophysics and Astronomy  Human-generated text   \n2  Astrophysics and Astronomy  Human-generated text   \n3  Astrophysics and Astronomy  Human-generated text   \n4  Astrophysics and Astronomy  Human-generated text   \n\n                                                Text  \\\n0  Low-thrust electric propulsion offers a higher...   \n1  Relative navigation is one of the key enable t...   \n2  In recent years, the technology of space tethe...   \n3  In celestial mechanics and mathematics, dynami...   \n4  The study of attitude dynamics within a three-...   \n\n                                              tokens  \n0  [low, thrust, electric, propulsion, offers, a,...  \n1  [relative, navigation, is, one, of, the, key, ...  \n2  [in, recent, years, the, technology, of, space...  \n3  [in, celestial, mechanics, and, mathematics, d...  \n4  [the, study, of, attitude, dynamics, within, a...  ",
      "text/html": "<div>\n<style scoped>\n    .dataframe tbody tr th:only-of-type {\n        vertical-align: middle;\n    }\n\n    .dataframe tbody tr th {\n        vertical-align: top;\n    }\n\n    .dataframe thead th {\n        text-align: right;\n    }\n</style>\n<table border=\"1\" class=\"dataframe\">\n  <thead>\n    <tr style=\"text-align: right;\">\n      <th></th>\n      <th>Domain</th>\n      <th>Class</th>\n      <th>Text</th>\n      <th>tokens</th>\n    </tr>\n  </thead>\n  <tbody>\n    <tr>\n      <th>0</th>\n      <td>Astrophysics and Astronomy</td>\n      <td>Human-generated text</td>\n      <td>Low-thrust electric propulsion offers a higher...</td>\n      <td>[low, thrust, electric, propulsion, offers, a,...</td>\n    </tr>\n    <tr>\n      <th>1</th>\n      <td>Astrophysics and Astronomy</td>\n      <td>Human-generated text</td>\n      <td>Relative navigation is one of the key enable t...</td>\n      <td>[relative, navigation, is, one, of, the, key, ...</td>\n    </tr>\n    <tr>\n      <th>2</th>\n      <td>Astrophysics and Astronomy</td>\n      <td>Human-generated text</td>\n      <td>In recent years, the technology of space tethe...</td>\n      <td>[in, recent, years, the, technology, of, space...</td>\n    </tr>\n    <tr>\n      <th>3</th>\n      <td>Astrophysics and Astronomy</td>\n      <td>Human-generated text</td>\n      <td>In celestial mechanics and mathematics, dynami...</td>\n      <td>[in, celestial, mechanics, and, mathematics, d...</td>\n    </tr>\n    <tr>\n      <th>4</th>\n      <td>Astrophysics and Astronomy</td>\n      <td>Human-generated text</td>\n      <td>The study of attitude dynamics within a three-...</td>\n      <td>[the, study, of, attitude, dynamics, within, a...</td>\n    </tr>\n  </tbody>\n</table>\n</div>"
     },
     "execution_count": 5,
     "metadata": {},
     "output_type": "execute_result"
    }
   ],
   "source": [
    "df['tokens'] = df['Text'].apply(clean_text)\n",
    "df.head()"
   ],
   "metadata": {
    "collapsed": false,
    "ExecuteTime": {
     "end_time": "2025-03-10T22:01:32.667476300Z",
     "start_time": "2025-03-10T22:00:01.504261800Z"
    }
   },
   "id": "185817c2f3b9f612"
  },
  {
   "cell_type": "code",
   "execution_count": 6,
   "outputs": [],
   "source": [
    "df.to_csv('../data/dataset_2/preprocessed_df_doc2vec.csv', index=False)"
   ],
   "metadata": {
    "collapsed": false,
    "ExecuteTime": {
     "end_time": "2025-03-10T22:01:32.920774600Z",
     "start_time": "2025-03-10T22:01:32.667476300Z"
    }
   },
   "id": "bd1430191f853af3"
  },
  {
   "cell_type": "markdown",
   "source": [],
   "metadata": {
    "collapsed": false
   },
   "id": "fad63c1649a8638d"
  },
  {
   "cell_type": "code",
   "execution_count": 7,
   "outputs": [
    {
     "data": {
      "text/plain": "((2100, 4), (900, 4))"
     },
     "execution_count": 7,
     "metadata": {},
     "output_type": "execute_result"
    }
   ],
   "source": [
    "df_train, df_test = train_test_split(df, train_size=0.7, random_state=42, stratify=df['Class'])\n",
    "\n",
    "df_train.shape, df_test.shape"
   ],
   "metadata": {
    "collapsed": false,
    "ExecuteTime": {
     "end_time": "2025-03-10T22:01:46.620944Z",
     "start_time": "2025-03-10T22:01:46.552212900Z"
    }
   },
   "id": "f621c4ce451ba92c"
  },
  {
   "cell_type": "markdown",
   "source": [],
   "metadata": {
    "collapsed": false
   },
   "id": "cfefaf7aaf8dffce"
  },
  {
   "cell_type": "code",
   "execution_count": 8,
   "outputs": [],
   "source": [
    "class EpochLogger(CallbackAny2Vec):\n",
    "    \"\"\"Callback do śledzenia treningu\"\"\"\n",
    "    def __init__(self):\n",
    "        self.epoch = 0\n",
    "\n",
    "    def on_epoch_begin(self, model):\n",
    "        print(f\"Start epoki {self.epoch}\")\n",
    "\n",
    "    def on_epoch_end(self, model):\n",
    "        print(f\"Koniec epoki {self.epoch}\")\n",
    "        self.epoch += 1\n",
    "\n",
    "\n",
    "epoch_logger = EpochLogger()"
   ],
   "metadata": {
    "collapsed": false,
    "ExecuteTime": {
     "end_time": "2025-03-10T22:01:49.768632500Z",
     "start_time": "2025-03-10T22:01:49.747642700Z"
    }
   },
   "id": "c54ea625fcaba12e"
  },
  {
   "cell_type": "code",
   "execution_count": 9,
   "outputs": [
    {
     "name": "stdout",
     "output_type": "stream",
     "text": [
      "Start epoki 0\n",
      "Koniec epoki 0\n",
      "Start epoki 1\n",
      "Koniec epoki 1\n",
      "Start epoki 2\n",
      "Koniec epoki 2\n",
      "Start epoki 3\n",
      "Koniec epoki 3\n",
      "Start epoki 4\n",
      "Koniec epoki 4\n",
      "Start epoki 5\n",
      "Koniec epoki 5\n",
      "Start epoki 6\n",
      "Koniec epoki 6\n",
      "Start epoki 7\n",
      "Koniec epoki 7\n",
      "Start epoki 8\n",
      "Koniec epoki 8\n",
      "Start epoki 9\n",
      "Koniec epoki 9\n",
      "Start epoki 10\n",
      "Koniec epoki 10\n",
      "Start epoki 11\n",
      "Koniec epoki 11\n",
      "Start epoki 12\n",
      "Koniec epoki 12\n",
      "Start epoki 13\n",
      "Koniec epoki 13\n",
      "Start epoki 14\n",
      "Koniec epoki 14\n",
      "Start epoki 15\n",
      "Koniec epoki 15\n",
      "Start epoki 16\n",
      "Koniec epoki 16\n",
      "Start epoki 17\n",
      "Koniec epoki 17\n",
      "Start epoki 18\n",
      "Koniec epoki 18\n",
      "Start epoki 19\n",
      "Koniec epoki 19\n",
      "Start epoki 20\n",
      "Koniec epoki 20\n",
      "Start epoki 21\n",
      "Koniec epoki 21\n",
      "Start epoki 22\n",
      "Koniec epoki 22\n",
      "Start epoki 23\n",
      "Koniec epoki 23\n",
      "Start epoki 24\n",
      "Koniec epoki 24\n",
      "Start epoki 25\n",
      "Koniec epoki 25\n",
      "Start epoki 26\n",
      "Koniec epoki 26\n",
      "Start epoki 27\n",
      "Koniec epoki 27\n",
      "Start epoki 28\n",
      "Koniec epoki 28\n",
      "Start epoki 29\n",
      "Koniec epoki 29\n",
      "Start epoki 30\n",
      "Koniec epoki 30\n",
      "Start epoki 31\n",
      "Koniec epoki 31\n",
      "Start epoki 32\n",
      "Koniec epoki 32\n",
      "Start epoki 33\n",
      "Koniec epoki 33\n",
      "Start epoki 34\n",
      "Koniec epoki 34\n",
      "Start epoki 35\n",
      "Koniec epoki 35\n",
      "Start epoki 36\n",
      "Koniec epoki 36\n",
      "Start epoki 37\n",
      "Koniec epoki 37\n",
      "Start epoki 38\n",
      "Koniec epoki 38\n",
      "Start epoki 39\n",
      "Koniec epoki 39\n",
      "Start epoki 40\n",
      "Koniec epoki 40\n",
      "Start epoki 41\n",
      "Koniec epoki 41\n",
      "Start epoki 42\n",
      "Koniec epoki 42\n",
      "Start epoki 43\n",
      "Koniec epoki 43\n",
      "Start epoki 44\n",
      "Koniec epoki 44\n",
      "Start epoki 45\n",
      "Koniec epoki 45\n",
      "Start epoki 46\n",
      "Koniec epoki 46\n",
      "Start epoki 47\n",
      "Koniec epoki 47\n",
      "Start epoki 48\n",
      "Koniec epoki 48\n",
      "Start epoki 49\n",
      "Koniec epoki 49\n",
      "Start epoki 50\n",
      "Koniec epoki 50\n",
      "Start epoki 51\n",
      "Koniec epoki 51\n",
      "Start epoki 52\n",
      "Koniec epoki 52\n",
      "Start epoki 53\n",
      "Koniec epoki 53\n",
      "Start epoki 54\n",
      "Koniec epoki 54\n",
      "Start epoki 55\n",
      "Koniec epoki 55\n",
      "Start epoki 56\n",
      "Koniec epoki 56\n",
      "Start epoki 57\n",
      "Koniec epoki 57\n",
      "Start epoki 58\n",
      "Koniec epoki 58\n",
      "Start epoki 59\n",
      "Koniec epoki 59\n",
      "Start epoki 60\n",
      "Koniec epoki 60\n",
      "Start epoki 61\n",
      "Koniec epoki 61\n",
      "Start epoki 62\n",
      "Koniec epoki 62\n",
      "Start epoki 63\n",
      "Koniec epoki 63\n",
      "Start epoki 64\n",
      "Koniec epoki 64\n",
      "Start epoki 65\n",
      "Koniec epoki 65\n",
      "Start epoki 66\n",
      "Koniec epoki 66\n",
      "Start epoki 67\n",
      "Koniec epoki 67\n",
      "Start epoki 68\n",
      "Koniec epoki 68\n",
      "Start epoki 69\n",
      "Koniec epoki 69\n",
      "Start epoki 70\n",
      "Koniec epoki 70\n",
      "Start epoki 71\n",
      "Koniec epoki 71\n",
      "Start epoki 72\n",
      "Koniec epoki 72\n",
      "Start epoki 73\n",
      "Koniec epoki 73\n",
      "Start epoki 74\n",
      "Koniec epoki 74\n",
      "Start epoki 75\n",
      "Koniec epoki 75\n",
      "Start epoki 76\n",
      "Koniec epoki 76\n",
      "Start epoki 77\n",
      "Koniec epoki 77\n",
      "Start epoki 78\n",
      "Koniec epoki 78\n",
      "Start epoki 79\n",
      "Koniec epoki 79\n",
      "Start epoki 80\n",
      "Koniec epoki 80\n",
      "Start epoki 81\n",
      "Koniec epoki 81\n",
      "Start epoki 82\n",
      "Koniec epoki 82\n",
      "Start epoki 83\n",
      "Koniec epoki 83\n",
      "Start epoki 84\n",
      "Koniec epoki 84\n",
      "Start epoki 85\n",
      "Koniec epoki 85\n",
      "Start epoki 86\n",
      "Koniec epoki 86\n",
      "Start epoki 87\n",
      "Koniec epoki 87\n",
      "Start epoki 88\n",
      "Koniec epoki 88\n",
      "Start epoki 89\n",
      "Koniec epoki 89\n",
      "Start epoki 90\n",
      "Koniec epoki 90\n",
      "Start epoki 91\n",
      "Koniec epoki 91\n",
      "Start epoki 92\n",
      "Koniec epoki 92\n",
      "Start epoki 93\n",
      "Koniec epoki 93\n",
      "Start epoki 94\n",
      "Koniec epoki 94\n",
      "Start epoki 95\n",
      "Koniec epoki 95\n",
      "Start epoki 96\n",
      "Koniec epoki 96\n",
      "Start epoki 97\n",
      "Koniec epoki 97\n",
      "Start epoki 98\n",
      "Koniec epoki 98\n",
      "Start epoki 99\n",
      "Koniec epoki 99\n",
      "Start epoki 100\n",
      "Koniec epoki 100\n",
      "Start epoki 101\n",
      "Koniec epoki 101\n",
      "Start epoki 102\n",
      "Koniec epoki 102\n",
      "Start epoki 103\n",
      "Koniec epoki 103\n",
      "Start epoki 104\n",
      "Koniec epoki 104\n",
      "Start epoki 105\n",
      "Koniec epoki 105\n",
      "Start epoki 106\n",
      "Koniec epoki 106\n",
      "Start epoki 107\n",
      "Koniec epoki 107\n",
      "Start epoki 108\n",
      "Koniec epoki 108\n",
      "Start epoki 109\n",
      "Koniec epoki 109\n",
      "Start epoki 110\n",
      "Koniec epoki 110\n",
      "Start epoki 111\n",
      "Koniec epoki 111\n",
      "Start epoki 112\n",
      "Koniec epoki 112\n",
      "Start epoki 113\n",
      "Koniec epoki 113\n",
      "Start epoki 114\n",
      "Koniec epoki 114\n",
      "Start epoki 115\n",
      "Koniec epoki 115\n",
      "Start epoki 116\n",
      "Koniec epoki 116\n",
      "Start epoki 117\n",
      "Koniec epoki 117\n",
      "Start epoki 118\n",
      "Koniec epoki 118\n",
      "Start epoki 119\n",
      "Koniec epoki 119\n",
      "Start epoki 120\n",
      "Koniec epoki 120\n",
      "Start epoki 121\n",
      "Koniec epoki 121\n",
      "Start epoki 122\n",
      "Koniec epoki 122\n",
      "Start epoki 123\n",
      "Koniec epoki 123\n",
      "Start epoki 124\n",
      "Koniec epoki 124\n",
      "Start epoki 125\n",
      "Koniec epoki 125\n",
      "Start epoki 126\n",
      "Koniec epoki 126\n",
      "Start epoki 127\n",
      "Koniec epoki 127\n",
      "Start epoki 128\n",
      "Koniec epoki 128\n",
      "Start epoki 129\n",
      "Koniec epoki 129\n",
      "Start epoki 130\n",
      "Koniec epoki 130\n",
      "Start epoki 131\n",
      "Koniec epoki 131\n",
      "Start epoki 132\n",
      "Koniec epoki 132\n",
      "Start epoki 133\n",
      "Koniec epoki 133\n",
      "Start epoki 134\n",
      "Koniec epoki 134\n",
      "Start epoki 135\n",
      "Koniec epoki 135\n",
      "Start epoki 136\n",
      "Koniec epoki 136\n",
      "Start epoki 137\n",
      "Koniec epoki 137\n",
      "Start epoki 138\n",
      "Koniec epoki 138\n",
      "Start epoki 139\n",
      "Koniec epoki 139\n",
      "Start epoki 140\n",
      "Koniec epoki 140\n",
      "Start epoki 141\n",
      "Koniec epoki 141\n",
      "Start epoki 142\n",
      "Koniec epoki 142\n",
      "Start epoki 143\n",
      "Koniec epoki 143\n",
      "Start epoki 144\n",
      "Koniec epoki 144\n",
      "Start epoki 145\n",
      "Koniec epoki 145\n",
      "Start epoki 146\n",
      "Koniec epoki 146\n",
      "Start epoki 147\n",
      "Koniec epoki 147\n",
      "Start epoki 148\n",
      "Koniec epoki 148\n",
      "Start epoki 149\n",
      "Koniec epoki 149\n",
      "Start epoki 150\n",
      "Koniec epoki 150\n",
      "Start epoki 151\n",
      "Koniec epoki 151\n",
      "Start epoki 152\n",
      "Koniec epoki 152\n",
      "Start epoki 153\n",
      "Koniec epoki 153\n",
      "Start epoki 154\n",
      "Koniec epoki 154\n",
      "Start epoki 155\n",
      "Koniec epoki 155\n",
      "Start epoki 156\n",
      "Koniec epoki 156\n",
      "Start epoki 157\n",
      "Koniec epoki 157\n",
      "Start epoki 158\n",
      "Koniec epoki 158\n",
      "Start epoki 159\n",
      "Koniec epoki 159\n",
      "Start epoki 160\n",
      "Koniec epoki 160\n",
      "Start epoki 161\n",
      "Koniec epoki 161\n",
      "Start epoki 162\n",
      "Koniec epoki 162\n",
      "Start epoki 163\n",
      "Koniec epoki 163\n",
      "Start epoki 164\n",
      "Koniec epoki 164\n",
      "Start epoki 165\n",
      "Koniec epoki 165\n",
      "Start epoki 166\n",
      "Koniec epoki 166\n",
      "Start epoki 167\n",
      "Koniec epoki 167\n",
      "Start epoki 168\n",
      "Koniec epoki 168\n",
      "Start epoki 169\n",
      "Koniec epoki 169\n",
      "Start epoki 170\n",
      "Koniec epoki 170\n",
      "Start epoki 171\n",
      "Koniec epoki 171\n",
      "Start epoki 172\n",
      "Koniec epoki 172\n",
      "Start epoki 173\n",
      "Koniec epoki 173\n",
      "Start epoki 174\n",
      "Koniec epoki 174\n",
      "Start epoki 175\n",
      "Koniec epoki 175\n",
      "Start epoki 176\n",
      "Koniec epoki 176\n",
      "Start epoki 177\n",
      "Koniec epoki 177\n",
      "Start epoki 178\n",
      "Koniec epoki 178\n",
      "Start epoki 179\n",
      "Koniec epoki 179\n",
      "Start epoki 180\n",
      "Koniec epoki 180\n",
      "Start epoki 181\n",
      "Koniec epoki 181\n",
      "Start epoki 182\n",
      "Koniec epoki 182\n",
      "Start epoki 183\n",
      "Koniec epoki 183\n",
      "Start epoki 184\n",
      "Koniec epoki 184\n",
      "Start epoki 185\n",
      "Koniec epoki 185\n",
      "Start epoki 186\n",
      "Koniec epoki 186\n",
      "Start epoki 187\n",
      "Koniec epoki 187\n",
      "Start epoki 188\n",
      "Koniec epoki 188\n",
      "Start epoki 189\n",
      "Koniec epoki 189\n",
      "Start epoki 190\n",
      "Koniec epoki 190\n",
      "Start epoki 191\n",
      "Koniec epoki 191\n",
      "Start epoki 192\n",
      "Koniec epoki 192\n",
      "Start epoki 193\n",
      "Koniec epoki 193\n",
      "Start epoki 194\n",
      "Koniec epoki 194\n",
      "Start epoki 195\n",
      "Koniec epoki 195\n",
      "Start epoki 196\n",
      "Koniec epoki 196\n",
      "Start epoki 197\n",
      "Koniec epoki 197\n",
      "Start epoki 198\n",
      "Koniec epoki 198\n",
      "Start epoki 199\n",
      "Koniec epoki 199\n"
     ]
    }
   ],
   "source": [
    "documents = [TaggedDocument(doc, [i]) for i, doc in enumerate(df_train['tokens'])]\n",
    "\n",
    "doc2vec_model = Doc2Vec(vector_size=200, window=10, epochs=200, min_count=1, dm=1, workers=4)\n",
    "doc2vec_model.build_vocab(documents)\n",
    "doc2vec_model.train(documents, total_examples=doc2vec_model.corpus_count, epochs=doc2vec_model.epochs, callbacks=[epoch_logger])"
   ],
   "metadata": {
    "collapsed": false,
    "ExecuteTime": {
     "end_time": "2025-03-10T22:03:09.735738Z",
     "start_time": "2025-03-10T22:01:57.893352600Z"
    }
   },
   "id": "d6e084e374c84064"
  },
  {
   "cell_type": "code",
   "execution_count": 10,
   "outputs": [],
   "source": [
    "doc2vec_model_path = '../models/dataset_2/doc2vec_model_ds2.model'\n",
    "doc2vec_model.save(doc2vec_model_path)"
   ],
   "metadata": {
    "collapsed": false,
    "ExecuteTime": {
     "end_time": "2025-03-10T22:03:09.826997Z",
     "start_time": "2025-03-10T22:03:09.741630900Z"
    }
   },
   "id": "f6470f1fe6a2b9d5"
  },
  {
   "cell_type": "markdown",
   "source": [],
   "metadata": {
    "collapsed": false
   },
   "id": "ef4940473861985d"
  },
  {
   "cell_type": "code",
   "execution_count": 11,
   "outputs": [],
   "source": [
    "def get_doc_vector(model, tokens):\n",
    "    return model.infer_vector(tokens)\n",
    "\n",
    "def extract_features(df_, model):\n",
    "    features = df_['tokens'].apply(lambda tokens: get_doc_vector(model, tokens))\n",
    "    X = np.vstack(features.values)\n",
    "    return X"
   ],
   "metadata": {
    "collapsed": false,
    "ExecuteTime": {
     "end_time": "2025-03-10T22:03:21.943265300Z",
     "start_time": "2025-03-10T22:03:21.927515300Z"
    }
   },
   "id": "cbb63a7ee7a0a8da"
  },
  {
   "cell_type": "code",
   "execution_count": 12,
   "outputs": [],
   "source": [
    "X_train = extract_features(df_train, doc2vec_model)\n",
    "X_test = extract_features(df_test, doc2vec_model)"
   ],
   "metadata": {
    "collapsed": false,
    "ExecuteTime": {
     "end_time": "2025-03-10T22:06:00.056406600Z",
     "start_time": "2025-03-10T22:03:45.550113100Z"
    }
   },
   "id": "b2a96e0a1e17dcad"
  },
  {
   "cell_type": "code",
   "execution_count": 13,
   "outputs": [
    {
     "name": "stdout",
     "output_type": "stream",
     "text": [
      "Klasy: ['ChatGPT-generated text' 'Human-generated text' 'Mixed text']\n"
     ]
    }
   ],
   "source": [
    "label_encoder = LabelEncoder()\n",
    "y_train = label_encoder.fit_transform(df_train['Class'])\n",
    "y_test = label_encoder.transform(df_test['Class'])\n",
    "\n",
    "joblib.dump(label_encoder, '../models/dataset_2/label_encoder_d2v.joblib')\n",
    "print(\"Klasy:\", label_encoder.classes_)"
   ],
   "metadata": {
    "collapsed": false,
    "ExecuteTime": {
     "end_time": "2025-03-10T22:06:00.070128700Z",
     "start_time": "2025-03-10T22:06:00.060422100Z"
    }
   },
   "id": "1df90106b2581c48"
  },
  {
   "cell_type": "markdown",
   "source": [],
   "metadata": {
    "collapsed": false
   },
   "id": "b95bca64f1878a0e"
  },
  {
   "cell_type": "code",
   "execution_count": 14,
   "outputs": [
    {
     "name": "stdout",
     "output_type": "stream",
     "text": [
      "\n",
      "Przetwarzanie modelu: LR\n",
      "Fitting 5 folds for each of 12 candidates, totalling 60 fits\n"
     ]
    },
    {
     "name": "stderr",
     "output_type": "stream",
     "text": [
      "C:\\Users\\weran\\PycharmProjects\\magisterka\\venv\\lib\\site-packages\\sklearn\\model_selection\\_validation.py:528: FitFailedWarning: \n",
      "15 fits failed out of a total of 60.\n",
      "The score on these train-test partitions for these parameters will be set to nan.\n",
      "If these failures are not expected, you can try to debug them by setting error_score='raise'.\n",
      "\n",
      "Below are more details about the failures:\n",
      "--------------------------------------------------------------------------------\n",
      "15 fits failed with the following error:\n",
      "Traceback (most recent call last):\n",
      "  File \"C:\\Users\\weran\\PycharmProjects\\magisterka\\venv\\lib\\site-packages\\sklearn\\model_selection\\_validation.py\", line 866, in _fit_and_score\n",
      "    estimator.fit(X_train, y_train, **fit_params)\n",
      "  File \"C:\\Users\\weran\\PycharmProjects\\magisterka\\venv\\lib\\site-packages\\sklearn\\base.py\", line 1389, in wrapper\n",
      "    return fit_method(estimator, *args, **kwargs)\n",
      "  File \"C:\\Users\\weran\\PycharmProjects\\magisterka\\venv\\lib\\site-packages\\sklearn\\linear_model\\_logistic.py\", line 1193, in fit\n",
      "    solver = _check_solver(self.solver, self.penalty, self.dual)\n",
      "  File \"C:\\Users\\weran\\PycharmProjects\\magisterka\\venv\\lib\\site-packages\\sklearn\\linear_model\\_logistic.py\", line 63, in _check_solver\n",
      "    raise ValueError(\n",
      "ValueError: Solver lbfgs supports only 'l2' or None penalties, got l1 penalty.\n",
      "\n",
      "  warnings.warn(some_fits_failed_message, FitFailedWarning)\n",
      "C:\\Users\\weran\\PycharmProjects\\magisterka\\venv\\lib\\site-packages\\sklearn\\model_selection\\_search.py:1108: UserWarning: One or more of the test scores are non-finite: [0.56952381        nan 0.5747619  0.57428571 0.57              nan\n",
      " 0.57285714 0.57095238 0.57190476        nan 0.57238095 0.57142857]\n",
      "  warnings.warn(\n",
      "C:\\Users\\weran\\PycharmProjects\\magisterka\\venv\\lib\\site-packages\\sklearn\\linear_model\\_logistic.py:1247: FutureWarning: 'multi_class' was deprecated in version 1.5 and will be removed in 1.7. From then on, it will always use 'multinomial'. Leave it to its default value to avoid this warning.\n",
      "  warnings.warn(\n"
     ]
    },
    {
     "name": "stdout",
     "output_type": "stream",
     "text": [
      "Najlepsze parametry dla LR: {'C': 0.1, 'penalty': 'l2', 'solver': 'saga'}\n",
      "Najlepsza dokładność (CV) dla LR: 0.5748\n",
      "Model LR zapisany jako: ../models/dataset_2\\LR_best_model_d2v_dataset2.pkl\n",
      "Dokładność na zbiorze testowym: 0.5589\n"
     ]
    }
   ],
   "source": [
    "models_and_parameters = {\n",
    "    'model_name': 'LR',\n",
    "    'estimator': LogisticRegression(max_iter=1000, multi_class='multinomial', random_state=42),\n",
    "    'param_grid': {\n",
    "        'C': [0.1, 1, 10],\n",
    "        'penalty': ['l1', 'l2'],\n",
    "        'solver': ['saga', 'lbfgs']\n",
    "    }\n",
    "}\n",
    "\n",
    "model_name = models_and_parameters['model_name']\n",
    "\n",
    "print(f\"\\nPrzetwarzanie modelu: {model_name}\")\n",
    "estimator = models_and_parameters['estimator']\n",
    "param_grid = models_and_parameters['param_grid']\n",
    "\n",
    "grid = GridSearchCV(estimator, param_grid, cv=5, scoring='accuracy', n_jobs=-1, verbose=2)\n",
    "grid.fit(X_train, y_train)\n",
    "\n",
    "print(f\"Najlepsze parametry dla {model_name}: {grid.best_params_}\")\n",
    "print(f\"Najlepsza dokładność (CV) dla {model_name}: {grid.best_score_:.4f}\")\n",
    "\n",
    "model_filename = os.path.join('../models/dataset_2', f'{model_name}_best_model_d2v_dataset2.pkl')\n",
    "joblib.dump(grid.best_estimator_, model_filename)\n",
    "print(f\"Model {model_name} zapisany jako: {model_filename}\")\n",
    "\n",
    "best_model = grid.best_estimator_\n",
    "y_pred = best_model.predict(X_test)\n",
    "accuracy = accuracy_score(y_test, y_pred)\n",
    "print(f'Dokładność na zbiorze testowym: {accuracy:.4f}')"
   ],
   "metadata": {
    "collapsed": false,
    "ExecuteTime": {
     "end_time": "2025-03-10T22:07:35.609507300Z",
     "start_time": "2025-03-10T22:06:42.014070500Z"
    }
   },
   "id": "13cdc7c7c7bf79de"
  },
  {
   "cell_type": "code",
   "execution_count": 15,
   "outputs": [
    {
     "name": "stdout",
     "output_type": "stream",
     "text": [
      "\n",
      "Przetwarzanie modelu: DT\n",
      "Fitting 5 folds for each of 200 candidates, totalling 1000 fits\n",
      "Najlepsze parametry dla DT: {'criterion': 'entropy', 'max_depth': 5, 'min_samples_leaf': 5, 'min_samples_split': 2}\n",
      "Najlepsza dokładność (CV) dla DT: 0.3948\n",
      "Model DT zapisany jako: ../models/dataset_2\\DT_best_model_d2v_dataset2.pkl\n",
      "Dokładność na zbiorze testowym: 0.4000\n"
     ]
    }
   ],
   "source": [
    "models_and_parameters = {\n",
    "    'model_name': 'DT',\n",
    "    'estimator': DecisionTreeClassifier(random_state=42),\n",
    "    'param_grid': {\n",
    "        'criterion': ['gini', 'entropy'],\n",
    "        'max_depth': [None, 5, 10, 15, 20],\n",
    "        'min_samples_split': [2, 5, 10, 15, 20],\n",
    "        'min_samples_leaf': [1, 2, 5, 10]\n",
    "    }\n",
    "}\n",
    "\n",
    "model_name = models_and_parameters['model_name']\n",
    "\n",
    "print(f\"\\nPrzetwarzanie modelu: {model_name}\")\n",
    "estimator = models_and_parameters['estimator']\n",
    "param_grid = models_and_parameters['param_grid']\n",
    "\n",
    "grid = GridSearchCV(estimator, param_grid, cv=5, scoring='accuracy', n_jobs=-1, verbose=2)\n",
    "grid.fit(X_train, y_train)\n",
    "\n",
    "print(f\"Najlepsze parametry dla {model_name}: {grid.best_params_}\")\n",
    "print(f\"Najlepsza dokładność (CV) dla {model_name}: {grid.best_score_:.4f}\")\n",
    "\n",
    "model_filename = os.path.join('../models/dataset_2', f'{model_name}_best_model_d2v_dataset2.pkl')\n",
    "joblib.dump(grid.best_estimator_, model_filename)\n",
    "print(f\"Model {model_name} zapisany jako: {model_filename}\")\n",
    "\n",
    "best_model = grid.best_estimator_\n",
    "y_pred = best_model.predict(X_test)\n",
    "accuracy = accuracy_score(y_test, y_pred)\n",
    "print(f'Dokładność na zbiorze testowym: {accuracy:.4f}')"
   ],
   "metadata": {
    "collapsed": false,
    "ExecuteTime": {
     "end_time": "2025-03-10T22:09:16.649685700Z",
     "start_time": "2025-03-10T22:07:44.544226200Z"
    }
   },
   "id": "bf9f9074640528d3"
  },
  {
   "cell_type": "code",
   "execution_count": 16,
   "outputs": [
    {
     "name": "stdout",
     "output_type": "stream",
     "text": [
      "\n",
      "Przetwarzanie modelu: RF\n",
      "Fitting 5 folds for each of 162 candidates, totalling 810 fits\n",
      "Najlepsze parametry dla RF: {'criterion': 'gini', 'max_depth': 10, 'min_samples_leaf': 5, 'min_samples_split': 2, 'n_estimators': 200}\n",
      "Najlepsza dokładność (CV) dla RF: 0.4724\n",
      "Model RF zapisany jako: ../models/dataset_2\\RF_best_model_d2v_dataset2.pkl\n",
      "Dokładność na zbiorze testowym: 0.4978\n"
     ]
    }
   ],
   "source": [
    "models_and_parameters = {\n",
    "    'model_name': 'RF',\n",
    "    'estimator': RandomForestClassifier(random_state=42),\n",
    "    'param_grid': {\n",
    "        'n_estimators': [50, 100, 200],\n",
    "        'criterion': ['gini', 'entropy'],\n",
    "        'max_depth': [None, 10, 20],\n",
    "        'min_samples_split': [2, 5, 10],\n",
    "        'min_samples_leaf': [1, 2, 5]\n",
    "    }\n",
    "}\n",
    "\n",
    "model_name = models_and_parameters['model_name']\n",
    "\n",
    "print(f\"\\nPrzetwarzanie modelu: {model_name}\")\n",
    "estimator = models_and_parameters['estimator']\n",
    "param_grid = models_and_parameters['param_grid']\n",
    "\n",
    "grid = GridSearchCV(estimator, param_grid, cv=5, scoring='accuracy', n_jobs=-1, verbose=2)\n",
    "grid.fit(X_train, y_train)\n",
    "\n",
    "print(f\"Najlepsze parametry dla {model_name}: {grid.best_params_}\")\n",
    "print(f\"Najlepsza dokładność (CV) dla {model_name}: {grid.best_score_:.4f}\")\n",
    "\n",
    "model_filename = os.path.join('../models/dataset_2', f'{model_name}_best_model_d2v_dataset2.pkl')\n",
    "joblib.dump(grid.best_estimator_, model_filename)\n",
    "print(f\"Model {model_name} zapisany jako: {model_filename}\")\n",
    "\n",
    "best_model = grid.best_estimator_\n",
    "y_pred = best_model.predict(X_test)\n",
    "accuracy = accuracy_score(y_test, y_pred)\n",
    "print(f'Dokładność na zbiorze testowym: {accuracy:.4f}')"
   ],
   "metadata": {
    "collapsed": false,
    "ExecuteTime": {
     "end_time": "2025-03-10T22:17:16.115875400Z",
     "start_time": "2025-03-10T22:09:22.001374Z"
    }
   },
   "id": "bcaf83b9d85bcc8f"
  },
  {
   "cell_type": "code",
   "execution_count": 17,
   "outputs": [
    {
     "name": "stdout",
     "output_type": "stream",
     "text": [
      "\n",
      "Przetwarzanie modelu: NB\n",
      "Fitting 5 folds for each of 3 candidates, totalling 15 fits\n",
      "Najlepsze parametry dla NB: {'var_smoothing': 1e-09}\n",
      "Najlepsza dokładność (CV) dla NB: 0.5419\n",
      "Model NB zapisany jako: ../models/dataset_2\\NB_best_model_d2v_dataset2.pkl\n",
      "Dokładność na zbiorze testowym: 0.3700\n"
     ]
    }
   ],
   "source": [
    "models_and_parameters = {\n",
    "    'model_name': 'NB',\n",
    "    'estimator': GaussianNB(),\n",
    "    'param_grid': {\n",
    "    'var_smoothing': [1e-9, 1e-8, 1e-7]\n",
    "    }\n",
    "}\n",
    "\n",
    "model_name = models_and_parameters['model_name']\n",
    "\n",
    "print(f\"\\nPrzetwarzanie modelu: {model_name}\")\n",
    "estimator = models_and_parameters['estimator']\n",
    "param_grid = models_and_parameters['param_grid']\n",
    "\n",
    "grid = GridSearchCV(estimator, param_grid, cv=5, scoring='accuracy', n_jobs=-1, verbose=2)\n",
    "grid.fit(X_train, y_train)\n",
    "\n",
    "print(f\"Najlepsze parametry dla {model_name}: {grid.best_params_}\")\n",
    "print(f\"Najlepsza dokładność (CV) dla {model_name}: {grid.best_score_:.4f}\")\n",
    "\n",
    "model_filename = os.path.join('../models/dataset_2', f'{model_name}_best_model_d2v_dataset2.pkl')\n",
    "joblib.dump(grid.best_estimator_, model_filename)\n",
    "print(f\"Model {model_name} zapisany jako: {model_filename}\")\n",
    "\n",
    "best_model = grid.best_estimator_\n",
    "y_pred = best_model.predict(X_test)\n",
    "accuracy = accuracy_score(y_test, y_pred)\n",
    "print(f'Dokładność na zbiorze testowym: {accuracy:.4f}')"
   ],
   "metadata": {
    "collapsed": false,
    "ExecuteTime": {
     "end_time": "2025-03-10T22:18:28.015102700Z",
     "start_time": "2025-03-10T22:18:27.744502900Z"
    }
   },
   "id": "3a68ca1cad615456"
  },
  {
   "cell_type": "code",
   "execution_count": 18,
   "outputs": [
    {
     "name": "stdout",
     "output_type": "stream",
     "text": [
      "\n",
      "Przetwarzanie modelu: KNN\n",
      "Fitting 5 folds for each of 18 candidates, totalling 90 fits\n",
      "Najlepsze parametry dla KNN: {'metric': 'minkowski', 'n_neighbors': 20, 'weights': 'uniform'}\n",
      "Najlepsza dokładność (CV) dla KNN: 0.3348\n",
      "Model KNN zapisany jako: ../models/dataset_2\\KNN_best_model_d2v_dataset2.pkl\n",
      "Dokładność na zbiorze testowym: 0.4233\n"
     ]
    }
   ],
   "source": [
    "models_and_parameters = {\n",
    "    'model_name': 'KNN',\n",
    "    'estimator': KNeighborsClassifier(),\n",
    "    'param_grid': {\n",
    "        'n_neighbors': [5, 10, 20],\n",
    "        'metric': ['minkowski', 'euclidean', 'manhattan'],\n",
    "        'weights': ['uniform', 'distance']\n",
    "    }\n",
    "}\n",
    "\n",
    "model_name = models_and_parameters['model_name']\n",
    "\n",
    "print(f\"\\nPrzetwarzanie modelu: {model_name}\")\n",
    "estimator = models_and_parameters['estimator']\n",
    "param_grid = models_and_parameters['param_grid']\n",
    "\n",
    "grid = GridSearchCV(estimator, param_grid, cv=5, scoring='accuracy', n_jobs=-1, verbose=2)\n",
    "grid.fit(X_train, y_train)\n",
    "\n",
    "print(f\"Najlepsze parametry dla {model_name}: {grid.best_params_}\")\n",
    "print(f\"Najlepsza dokładność (CV) dla {model_name}: {grid.best_score_:.4f}\")\n",
    "\n",
    "model_filename = os.path.join('../models/dataset_2', f'{model_name}_best_model_d2v_dataset2.pkl')\n",
    "joblib.dump(grid.best_estimator_, model_filename)\n",
    "print(f\"Model {model_name} zapisany jako: {model_filename}\")\n",
    "\n",
    "best_model = grid.best_estimator_\n",
    "y_pred = best_model.predict(X_test)\n",
    "accuracy = accuracy_score(y_test, y_pred)\n",
    "print(f'Dokładność na zbiorze testowym: {accuracy:.4f}')"
   ],
   "metadata": {
    "collapsed": false,
    "ExecuteTime": {
     "end_time": "2025-03-10T22:18:35.693880900Z",
     "start_time": "2025-03-10T22:18:33.542482Z"
    }
   },
   "id": "14ee621b1eeb109b"
  },
  {
   "cell_type": "code",
   "execution_count": 19,
   "outputs": [
    {
     "name": "stdout",
     "output_type": "stream",
     "text": [
      "\n",
      "Przetwarzanie modelu: SVM\n",
      "Fitting 5 folds for each of 24 candidates, totalling 120 fits\n",
      "Najlepsze parametry dla SVM: {'C': 0.1, 'decision_function_shape': 'ovo', 'gamma': 'scale', 'kernel': 'linear'}\n",
      "Najlepsza dokładność (CV) dla SVM: 0.5652\n",
      "Model SVM zapisany jako: ../models/dataset_2\\SVM_best_model_d2v_dataset2.pkl\n",
      "Dokładność na zbiorze testowym: 0.5778\n"
     ]
    }
   ],
   "source": [
    "models_and_parameters = {\n",
    "    'model_name': 'SVM',\n",
    "    'estimator': SVC(random_state=42),\n",
    "    'param_grid': {\n",
    "        'C': [0.1, 1, 10],\n",
    "        'kernel': ['linear', 'rbf'],\n",
    "        'gamma': ['scale', 'auto'],\n",
    "        'decision_function_shape': ['ovo', 'ovr']\n",
    "    }\n",
    "}\n",
    "\n",
    "model_name = models_and_parameters['model_name']\n",
    "\n",
    "print(f\"\\nPrzetwarzanie modelu: {model_name}\")\n",
    "estimator = models_and_parameters['estimator']\n",
    "param_grid = models_and_parameters['param_grid']\n",
    "\n",
    "grid = GridSearchCV(estimator, param_grid, cv=5, scoring='accuracy', n_jobs=-1, verbose=2)\n",
    "grid.fit(X_train, y_train)\n",
    "\n",
    "print(f\"Najlepsze parametry dla {model_name}: {grid.best_params_}\")\n",
    "print(f\"Najlepsza dokładność (CV) dla {model_name}: {grid.best_score_:.4f}\")\n",
    "\n",
    "model_filename = os.path.join('../models/dataset_2', f'{model_name}_best_model_d2v_dataset2.pkl')\n",
    "joblib.dump(grid.best_estimator_, model_filename)\n",
    "print(f\"Model {model_name} zapisany jako: {model_filename}\")\n",
    "\n",
    "best_model = grid.best_estimator_\n",
    "y_pred = best_model.predict(X_test)\n",
    "accuracy = accuracy_score(y_test, y_pred)\n",
    "print(f'Dokładność na zbiorze testowym: {accuracy:.4f}')"
   ],
   "metadata": {
    "collapsed": false,
    "ExecuteTime": {
     "end_time": "2025-03-10T22:28:33.064477900Z",
     "start_time": "2025-03-10T22:18:38.514045800Z"
    }
   },
   "id": "ba7f1ad5bc5a59d3"
  },
  {
   "cell_type": "code",
   "execution_count": 23,
   "outputs": [],
   "source": [
    "models_and_parameters = {\n",
    "    'model_name': 'XGB',\n",
    "    'estimator': XGBClassifier(use_label_encoder=False, eval_metric='mlogloss', random_state=42),\n",
    "    'param_grid': {\n",
    "        'n_estimators': [50, 100, 150],\n",
    "        'max_depth': [3, 6, 9],\n",
    "        'learning_rate': [0.01, 0.1, 0.2],\n",
    "        'subsample': [0.5, 0.75, 1.0],\n",
    "        'colsample_bytree': [0.5, 0.75, 1.0],\n",
    "        'objective': ['multi:softmax', 'multi:softprob']\n",
    "    }\n",
    "}\n",
    "\n",
    "model_name = models_and_parameters['model_name']\n",
    "\n",
    "print(f\"\\nPrzetwarzanie modelu: {model_name}\")\n",
    "estimator = models_and_parameters['estimator']\n",
    "param_grid = models_and_parameters['param_grid']\n",
    "\n",
    "grid = GridSearchCV(estimator, param_grid, cv=5, scoring='accuracy', n_jobs=-1, verbose=2)\n",
    "grid.fit(X_train, y_train)\n",
    "\n",
    "print(f\"Najlepsze parametry dla {model_name}: {grid.best_params_}\")\n",
    "print(f\"Najlepsza dokładność (CV) dla {model_name}: {grid.best_score_:.4f}\")\n",
    "\n",
    "model_filename = os.path.join('../models/dataset_2', f'{model_name}_best_model_d2v_dataset2.pkl')\n",
    "joblib.dump(grid.best_estimator_, model_filename)\n",
    "print(f\"Model {model_name} zapisany jako: {model_filename}\")\n",
    "\n",
    "best_model = grid.best_estimator_\n",
    "y_pred = best_model.predict(X_test)\n",
    "accuracy = accuracy_score(y_test, y_pred)\n",
    "print(f'Dokładność na zbiorze testowym: {accuracy:.4f}')"
   ],
   "metadata": {
    "collapsed": false
   },
   "id": "d511b5d6610e5ffd"
  },
  {
   "cell_type": "code",
   "execution_count": 21,
   "outputs": [
    {
     "name": "stdout",
     "output_type": "stream",
     "text": [
      "\n",
      "Przetwarzanie modelu: MLP\n",
      "Fitting 5 folds for each of 243 candidates, totalling 1215 fits\n",
      "Najlepsze parametry dla MLP: {'activation': 'logistic', 'alpha': 0.0001, 'hidden_layer_sizes': (50, 50), 'learning_rate': 'constant', 'solver': 'adam'}\n",
      "Najlepsza dokładność (CV) dla MLP: 0.6148\n",
      "Model MLP zapisany jako: ../models/dataset_2\\MLP_best_model_d2v_dataset2.pkl\n",
      "Dokładność na zbiorze testowym: 0.5900\n"
     ]
    }
   ],
   "source": [
    "models_and_parameters = {\n",
    "    'model_name': 'MLP',\n",
    "        'estimator': MLPClassifier(random_state=42, early_stopping=True, n_iter_no_change=5),\n",
    "        'param_grid': {\n",
    "            'hidden_layer_sizes': [(100,), (50,50), (100,50,25)],\n",
    "            'activation': ['relu', 'tanh', 'logistic'],\n",
    "            'solver': ['adam', 'sgd', 'lbfgs'],\n",
    "            'alpha': [0.0001, 0.001, 0.01],\n",
    "            'learning_rate': ['constant', 'adaptive', 'invscaling']\n",
    "    }\n",
    "}\n",
    "\n",
    "model_name = models_and_parameters['model_name']\n",
    "\n",
    "print(f\"\\nPrzetwarzanie modelu: {model_name}\")\n",
    "estimator = models_and_parameters['estimator']\n",
    "param_grid = models_and_parameters['param_grid']\n",
    "\n",
    "grid = GridSearchCV(estimator, param_grid, cv=5, scoring='accuracy', n_jobs=-1, verbose=2)\n",
    "grid.fit(X_train, y_train)\n",
    "\n",
    "print(f\"Najlepsze parametry dla {model_name}: {grid.best_params_}\")\n",
    "print(f\"Najlepsza dokładność (CV) dla {model_name}: {grid.best_score_:.4f}\")\n",
    "\n",
    "model_filename = os.path.join('../models/dataset_2', f'{model_name}_best_model_d2v_dataset2.pkl')\n",
    "joblib.dump(grid.best_estimator_, model_filename)\n",
    "print(f\"Model {model_name} zapisany jako: {model_filename}\")\n",
    "\n",
    "best_model = grid.best_estimator_\n",
    "y_pred = best_model.predict(X_test)\n",
    "accuracy = accuracy_score(y_test, y_pred)\n",
    "print(f'Dokładność na zbiorze testowym: {accuracy:.4f}')"
   ],
   "metadata": {
    "collapsed": false,
    "ExecuteTime": {
     "end_time": "2025-03-10T23:05:57.210989800Z",
     "start_time": "2025-03-10T23:03:32.450397Z"
    }
   },
   "id": "a6f9bde7fe43a754"
  },
  {
   "cell_type": "code",
   "execution_count": null,
   "outputs": [],
   "source": [],
   "metadata": {
    "collapsed": false
   },
   "id": "8ae73a1b9966a5f2"
  }
 ],
 "metadata": {
  "kernelspec": {
   "display_name": "Python 3",
   "language": "python",
   "name": "python3"
  },
  "language_info": {
   "codemirror_mode": {
    "name": "ipython",
    "version": 2
   },
   "file_extension": ".py",
   "mimetype": "text/x-python",
   "name": "python",
   "nbconvert_exporter": "python",
   "pygments_lexer": "ipython2",
   "version": "2.7.6"
  }
 },
 "nbformat": 4,
 "nbformat_minor": 5
}
