{
 "cells": [
  {
   "cell_type": "code",
   "execution_count": 3,
   "outputs": [],
   "source": [
    "import joblib\n",
    "import numpy as np\n",
    "import os\n",
    "import spacy\n",
    "import pandas as pd\n",
    "\n",
    "from collections import Counter\n",
    "from nltk.tokenize import word_tokenize, sent_tokenize\n",
    "from nltk import ngrams\n",
    "from scipy.stats import entropy\n",
    "from sklearn.model_selection import train_test_split, GridSearchCV\n",
    "from sklearn.metrics import accuracy_score\n",
    "from sklearn.ensemble import RandomForestClassifier\n",
    "from sklearn.naive_bayes import GaussianNB\n",
    "from sklearn.neighbors import KNeighborsClassifier\n",
    "from sklearn.svm import SVC\n",
    "from sklearn.linear_model import LogisticRegression\n",
    "from sklearn.tree import DecisionTreeClassifier\n",
    "from sklearn.neural_network import MLPClassifier\n",
    "from sklearn.preprocessing import LabelEncoder\n",
    "from xgboost import XGBClassifier"
   ],
   "metadata": {
    "collapsed": false,
    "ExecuteTime": {
     "end_time": "2025-03-10T21:11:25.111845400Z",
     "start_time": "2025-03-10T21:11:03.788528Z"
    }
   },
   "id": "5e1d2aaf214edd8a"
  },
  {
   "cell_type": "code",
   "execution_count": 4,
   "id": "initial_id",
   "metadata": {
    "collapsed": true,
    "ExecuteTime": {
     "end_time": "2025-03-10T21:11:29.445708800Z",
     "start_time": "2025-03-10T21:11:29.347913Z"
    }
   },
   "outputs": [
    {
     "data": {
      "text/plain": "                       Domain                 Class  \\\n0  Astrophysics and Astronomy  Human-generated text   \n1  Astrophysics and Astronomy  Human-generated text   \n2  Astrophysics and Astronomy  Human-generated text   \n3  Astrophysics and Astronomy  Human-generated text   \n4  Astrophysics and Astronomy  Human-generated text   \n\n                                                Text  \n0  Low-thrust electric propulsion offers a higher...  \n1  Relative navigation is one of the key enable t...  \n2  In recent years, the technology of space tethe...  \n3  In celestial mechanics and mathematics, dynami...  \n4  The study of attitude dynamics within a three-...  ",
      "text/html": "<div>\n<style scoped>\n    .dataframe tbody tr th:only-of-type {\n        vertical-align: middle;\n    }\n\n    .dataframe tbody tr th {\n        vertical-align: top;\n    }\n\n    .dataframe thead th {\n        text-align: right;\n    }\n</style>\n<table border=\"1\" class=\"dataframe\">\n  <thead>\n    <tr style=\"text-align: right;\">\n      <th></th>\n      <th>Domain</th>\n      <th>Class</th>\n      <th>Text</th>\n    </tr>\n  </thead>\n  <tbody>\n    <tr>\n      <th>0</th>\n      <td>Astrophysics and Astronomy</td>\n      <td>Human-generated text</td>\n      <td>Low-thrust electric propulsion offers a higher...</td>\n    </tr>\n    <tr>\n      <th>1</th>\n      <td>Astrophysics and Astronomy</td>\n      <td>Human-generated text</td>\n      <td>Relative navigation is one of the key enable t...</td>\n    </tr>\n    <tr>\n      <th>2</th>\n      <td>Astrophysics and Astronomy</td>\n      <td>Human-generated text</td>\n      <td>In recent years, the technology of space tethe...</td>\n    </tr>\n    <tr>\n      <th>3</th>\n      <td>Astrophysics and Astronomy</td>\n      <td>Human-generated text</td>\n      <td>In celestial mechanics and mathematics, dynami...</td>\n    </tr>\n    <tr>\n      <th>4</th>\n      <td>Astrophysics and Astronomy</td>\n      <td>Human-generated text</td>\n      <td>The study of attitude dynamics within a three-...</td>\n    </tr>\n  </tbody>\n</table>\n</div>"
     },
     "execution_count": 4,
     "metadata": {},
     "output_type": "execute_result"
    }
   ],
   "source": [
    "df_csv = pd.read_csv(\"../data/dataset_2/AIGTxt_DataSet.csv\")\n",
    "df = pd.melt(df_csv, id_vars=['Domain'], value_vars=['Human-generated text', 'ChatGPT-generated text', 'Mixed text'],\n",
    "                  var_name='Class', value_name='Text')\n",
    "df.head()"
   ]
  },
  {
   "cell_type": "code",
   "execution_count": 5,
   "outputs": [
    {
     "name": "stdout",
     "output_type": "stream",
     "text": [
      "<class 'pandas.core.frame.DataFrame'>\n",
      "RangeIndex: 3000 entries, 0 to 2999\n",
      "Data columns (total 3 columns):\n",
      " #   Column  Non-Null Count  Dtype \n",
      "---  ------  --------------  ----- \n",
      " 0   Domain  3000 non-null   object\n",
      " 1   Class   3000 non-null   object\n",
      " 2   Text    3000 non-null   object\n",
      "dtypes: object(3)\n",
      "memory usage: 70.4+ KB\n"
     ]
    }
   ],
   "source": [
    "df.info()"
   ],
   "metadata": {
    "collapsed": false,
    "ExecuteTime": {
     "end_time": "2025-03-10T21:11:30.446183300Z",
     "start_time": "2025-03-10T21:11:30.393161400Z"
    }
   },
   "id": "729fb714b883729d"
  },
  {
   "cell_type": "markdown",
   "source": [],
   "metadata": {
    "collapsed": false
   },
   "id": "50eec21a67e438db"
  },
  {
   "cell_type": "code",
   "execution_count": 6,
   "outputs": [],
   "source": [
    "nlp = spacy.load('en_core_web_sm')\n",
    "\n",
    "def clean_text(text):\n",
    "    doc = nlp(text.lower())\n",
    "    tokens = [\n",
    "        token.lemma_ for token in doc \n",
    "        if (token.is_alpha and not token.is_stop and len(token) > 2)\n",
    "    ]\n",
    "    return tokens"
   ],
   "metadata": {
    "collapsed": false,
    "ExecuteTime": {
     "end_time": "2025-03-10T21:11:39.547198Z",
     "start_time": "2025-03-10T21:11:38.822802700Z"
    }
   },
   "id": "1bedcc5402131532"
  },
  {
   "cell_type": "code",
   "execution_count": 7,
   "outputs": [
    {
     "data": {
      "text/plain": "                       Domain                 Class  \\\n0  Astrophysics and Astronomy  Human-generated text   \n1  Astrophysics and Astronomy  Human-generated text   \n2  Astrophysics and Astronomy  Human-generated text   \n3  Astrophysics and Astronomy  Human-generated text   \n4  Astrophysics and Astronomy  Human-generated text   \n\n                                                Text  \\\n0  Low-thrust electric propulsion offers a higher...   \n1  Relative navigation is one of the key enable t...   \n2  In recent years, the technology of space tethe...   \n3  In celestial mechanics and mathematics, dynami...   \n4  The study of attitude dynamics within a three-...   \n\n                                              tokens  \n0  [low, thrust, electric, propulsion, offer, hig...  \n1  [relative, navigation, key, enable, technology...  \n2  [recent, year, technology, space, tether, draw...  \n3  [celestial, mechanic, mathematic, dynamical, s...  \n4  [study, attitude, dynamic, body, problem, esse...  ",
      "text/html": "<div>\n<style scoped>\n    .dataframe tbody tr th:only-of-type {\n        vertical-align: middle;\n    }\n\n    .dataframe tbody tr th {\n        vertical-align: top;\n    }\n\n    .dataframe thead th {\n        text-align: right;\n    }\n</style>\n<table border=\"1\" class=\"dataframe\">\n  <thead>\n    <tr style=\"text-align: right;\">\n      <th></th>\n      <th>Domain</th>\n      <th>Class</th>\n      <th>Text</th>\n      <th>tokens</th>\n    </tr>\n  </thead>\n  <tbody>\n    <tr>\n      <th>0</th>\n      <td>Astrophysics and Astronomy</td>\n      <td>Human-generated text</td>\n      <td>Low-thrust electric propulsion offers a higher...</td>\n      <td>[low, thrust, electric, propulsion, offer, hig...</td>\n    </tr>\n    <tr>\n      <th>1</th>\n      <td>Astrophysics and Astronomy</td>\n      <td>Human-generated text</td>\n      <td>Relative navigation is one of the key enable t...</td>\n      <td>[relative, navigation, key, enable, technology...</td>\n    </tr>\n    <tr>\n      <th>2</th>\n      <td>Astrophysics and Astronomy</td>\n      <td>Human-generated text</td>\n      <td>In recent years, the technology of space tethe...</td>\n      <td>[recent, year, technology, space, tether, draw...</td>\n    </tr>\n    <tr>\n      <th>3</th>\n      <td>Astrophysics and Astronomy</td>\n      <td>Human-generated text</td>\n      <td>In celestial mechanics and mathematics, dynami...</td>\n      <td>[celestial, mechanic, mathematic, dynamical, s...</td>\n    </tr>\n    <tr>\n      <th>4</th>\n      <td>Astrophysics and Astronomy</td>\n      <td>Human-generated text</td>\n      <td>The study of attitude dynamics within a three-...</td>\n      <td>[study, attitude, dynamic, body, problem, esse...</td>\n    </tr>\n  </tbody>\n</table>\n</div>"
     },
     "execution_count": 7,
     "metadata": {},
     "output_type": "execute_result"
    }
   ],
   "source": [
    "df['tokens'] = df['Text'].apply(clean_text)\n",
    "df.head()"
   ],
   "metadata": {
    "collapsed": false,
    "ExecuteTime": {
     "end_time": "2025-03-10T21:13:18.031384700Z",
     "start_time": "2025-03-10T21:11:44.687217300Z"
    }
   },
   "id": "185817c2f3b9f612"
  },
  {
   "cell_type": "code",
   "execution_count": 8,
   "outputs": [],
   "source": [
    "def type_token_ratio(words):\n",
    "    return len(set(words)) / len(words) if words else 0\n",
    "\n",
    "def calculate_entropy(words):\n",
    "    word_freq = Counter(words)\n",
    "    probabilities = np.array(list(word_freq.values())) / len(words)\n",
    "    return entropy(probabilities)\n",
    "\n",
    "def perplexity(words):\n",
    "    return np.exp(calculate_entropy(words))\n",
    "\n",
    "def sentence_paragraph_variability(text, words):\n",
    "    sentences = sent_tokenize(text)\n",
    "    sentence_lengths = [len(word_tokenize(sent)) for sent in sentences]\n",
    "    paragraphs = text.split(\"\\n\")\n",
    "    paragraph_lengths = [len(word_tokenize(para)) for para in paragraphs if para.strip()]\n",
    "    return np.std(sentence_lengths), np.std(paragraph_lengths)\n",
    "\n",
    "def ngram_distribution(words, n=2):\n",
    "    n_grams = list(ngrams(words, n))\n",
    "    return Counter(n_grams).most_common(5)\n",
    "\n",
    "def abstractness(words):\n",
    "    abstract_words = {\"concept\", \"idea\", \"theory\", \"model\", \"framework\", \"paradigm\"}\n",
    "    return len([word for word in words if word in abstract_words]) / len(words) if words else 0\n",
    "\n",
    "def repetitiveness(words):\n",
    "    word_freq = Counter(words)\n",
    "    return max(word_freq.values()) / len(words) if words else 0\n",
    "\n",
    "def syntactic_complexity(text):\n",
    "    doc = nlp(text)\n",
    "    complex_sentences = sum(1 for sent in doc.sents if sum(1 for token in sent if token.dep_ in ['advcl', 'ccomp', 'xcomp']) > 0)\n",
    "    return complex_sentences / len(list(doc.sents)) if doc.sents else 0\n",
    "\n",
    "def avg_word_sentence_length(words, text):\n",
    "    sentences = sent_tokenize(text)\n",
    "    avg_word_len = np.mean([len(word) for word in words]) if words else 0\n",
    "    avg_sent_len = np.mean([len(word_tokenize(sent)) for sent in sentences]) if sentences else 0\n",
    "    return avg_word_len, avg_sent_len"
   ],
   "metadata": {
    "collapsed": false,
    "ExecuteTime": {
     "end_time": "2025-03-10T21:13:18.047292700Z",
     "start_time": "2025-03-10T21:13:18.031384700Z"
    }
   },
   "id": "3a89de795c58cbcb"
  },
  {
   "cell_type": "code",
   "execution_count": 9,
   "outputs": [],
   "source": [
    "df['tokens'] = df['Text'].apply(clean_text)\n",
    "df['ttr'] = df['tokens'].apply(type_token_ratio)\n",
    "df['entropy'] = df['tokens'].apply(calculate_entropy)\n",
    "df['perplexity'] = df['tokens'].apply(perplexity)\n",
    "df['sentence_var'], df['paragraph_var'] = zip(*df.apply(\n",
    "    lambda row: sentence_paragraph_variability(row['Text'], row['tokens']), axis=1))\n",
    "df['abstractness'] = df['tokens'].apply(abstractness)\n",
    "df['repetitiveness'] = df['tokens'].apply(repetitiveness)\n",
    "df['syntactic_complexity'] = df['Text'].apply(syntactic_complexity)\n",
    "df['avg_word_length'], df['avg_sentence_length'] = zip(*df.apply(\n",
    "    lambda row: avg_word_sentence_length(row['tokens'], row['Text']), axis=1))"
   ],
   "metadata": {
    "collapsed": false,
    "ExecuteTime": {
     "end_time": "2025-03-10T21:16:34.446467800Z",
     "start_time": "2025-03-10T21:13:26.179927700Z"
    }
   },
   "id": "cf9d2e720aab5cab"
  },
  {
   "cell_type": "code",
   "execution_count": 13,
   "outputs": [
    {
     "data": {
      "text/plain": "                        Domain                 Class  \\\n0   Astrophysics and Astronomy  Human-generated text   \n1   Astrophysics and Astronomy  Human-generated text   \n2   Astrophysics and Astronomy  Human-generated text   \n3   Astrophysics and Astronomy  Human-generated text   \n4   Astrophysics and Astronomy  Human-generated text   \n..                         ...                   ...   \n95  Astrophysics and Astronomy  Human-generated text   \n96  Astrophysics and Astronomy  Human-generated text   \n97  Astrophysics and Astronomy  Human-generated text   \n98  Astrophysics and Astronomy  Human-generated text   \n99  Astrophysics and Astronomy  Human-generated text   \n\n                                                 Text  \\\n0   Low-thrust electric propulsion offers a higher...   \n1   Relative navigation is one of the key enable t...   \n2   In recent years, the technology of space tethe...   \n3   In celestial mechanics and mathematics, dynami...   \n4   The study of attitude dynamics within a three-...   \n..                                                ...   \n95  After two attempts on the evenings of July 19 ...   \n96  The spectropolarimeter described by Miller et ...   \n97  Astronomical optical telescopes use glass or c...   \n98  A continuous scanning of the sky using CCDs im...   \n99  Due to the inherent design of the intensified ...   \n\n                                               tokens       ttr   entropy  \\\n0   [low, thrust, electric, propulsion, offer, hig...  0.735632  3.991781   \n1   [relative, navigation, key, enable, technology...  0.648438  4.222171   \n2   [recent, year, technology, space, tether, draw...  0.740000  4.122402   \n3   [celestial, mechanic, mathematic, dynamical, s...  0.758621  4.316672   \n4   [study, attitude, dynamic, body, problem, esse...  0.884058  4.058210   \n..                                                ...       ...       ...   \n95  [attempt, evening, july, july, observatory, la...  0.767857  4.333932   \n96  [spectropolarimeter, describe, miller, achroma...  0.827160  4.111034   \n97  [astronomical, optical, telescope, use, glass,...  0.739130  4.036732   \n98  [continuous, scanning, sky, ccds, imply, speci...  0.813725  4.331952   \n99  [inherent, design, intensify, imager, involve,...  0.804598  4.139097   \n\n    perplexity  sentence_var  paragraph_var  \\\n0    54.151263     18.562327       0.000000   \n1    68.181373      9.904276       0.000000   \n2    61.707279      6.318098       0.000000   \n3    74.938812     13.891882       6.500000   \n4    57.870636     13.928388       0.000000   \n..         ...           ...            ...   \n95   76.243515      7.071068       4.123525   \n96   61.009768      9.781282       5.940539   \n97   56.640947     15.563880       3.623381   \n98   76.092691      9.764576       6.127889   \n99   62.746123     12.688578       6.492208   \n\n                                  bigram_distribution  \\\n0   [((low, thrust), 2), ((mission, design), 2), (...   \n1   [((relative, navigation), 5), ((non, cooperati...   \n2   [((space, mission), 2), ((end, body), 2), ((sp...   \n3   [((configuration, primary), 3), ((body, proble...   \n4   [((study, attitude), 1), ((attitude, dynamic),...   \n..                                                ...   \n95  [((space, shuttle), 2), ((attempt, evening), 1...   \n96  [((dual, beam), 2), ((frequency, high), 2), ((...   \n97  [((liquid, mirror), 4), ((observe, strip), 2),...   \n98  [((high, resolution), 2), ((continuous, scanni...   \n99  [((good, astrometry), 2), ((inherent, design),...   \n\n                                 trigram_distribution  abstractness  \\\n0   [((low, thrust, electric), 1), ((thrust, elect...      0.000000   \n1   [((non, cooperative, target), 4), ((angles, re...      0.007812   \n2   [((recent, year, technology), 1), ((year, tech...      0.000000   \n3   [((celestial, mechanic, mathematic), 1), ((mec...      0.017241   \n4   [((study, attitude, dynamic), 1), ((attitude, ...      0.000000   \n..                                                ...           ...   \n95  [((attempt, evening, july), 1), ((evening, jul...      0.000000   \n96  [((spectropolarimeter, describe, miller), 1), ...      0.000000   \n97  [((astronomical, optical, telescope), 1), ((op...      0.000000   \n98  [((continuous, scanning, sky), 1), ((scanning,...      0.000000   \n99  [((inherent, design, intensify), 1), ((design,...      0.000000   \n\n    repetitiveness  syntactic_complexity  avg_word_length  avg_sentence_length  \n0         0.091954              0.250000         7.034483            38.800000  \n1         0.039062              0.294118         7.312500            19.538462  \n2         0.090000              0.181818         6.800000            30.714286  \n3         0.051724              0.222222         7.387931            31.375000  \n4         0.043478              0.750000         7.304348            56.000000  \n..             ...                   ...              ...                  ...  \n95        0.044643              0.333333         6.330357            23.000000  \n96        0.061728              0.500000         7.802469            24.428571  \n97        0.076087              0.500000         6.989130            28.625000  \n98        0.049020              0.428571         6.411765            31.714286  \n99        0.068966              0.300000         6.747126            25.000000  \n\n[100 rows x 16 columns]",
      "text/html": "<div>\n<style scoped>\n    .dataframe tbody tr th:only-of-type {\n        vertical-align: middle;\n    }\n\n    .dataframe tbody tr th {\n        vertical-align: top;\n    }\n\n    .dataframe thead th {\n        text-align: right;\n    }\n</style>\n<table border=\"1\" class=\"dataframe\">\n  <thead>\n    <tr style=\"text-align: right;\">\n      <th></th>\n      <th>Domain</th>\n      <th>Class</th>\n      <th>Text</th>\n      <th>tokens</th>\n      <th>ttr</th>\n      <th>entropy</th>\n      <th>perplexity</th>\n      <th>sentence_var</th>\n      <th>paragraph_var</th>\n      <th>bigram_distribution</th>\n      <th>trigram_distribution</th>\n      <th>abstractness</th>\n      <th>repetitiveness</th>\n      <th>syntactic_complexity</th>\n      <th>avg_word_length</th>\n      <th>avg_sentence_length</th>\n    </tr>\n  </thead>\n  <tbody>\n    <tr>\n      <th>0</th>\n      <td>Astrophysics and Astronomy</td>\n      <td>Human-generated text</td>\n      <td>Low-thrust electric propulsion offers a higher...</td>\n      <td>[low, thrust, electric, propulsion, offer, hig...</td>\n      <td>0.735632</td>\n      <td>3.991781</td>\n      <td>54.151263</td>\n      <td>18.562327</td>\n      <td>0.000000</td>\n      <td>[((low, thrust), 2), ((mission, design), 2), (...</td>\n      <td>[((low, thrust, electric), 1), ((thrust, elect...</td>\n      <td>0.000000</td>\n      <td>0.091954</td>\n      <td>0.250000</td>\n      <td>7.034483</td>\n      <td>38.800000</td>\n    </tr>\n    <tr>\n      <th>1</th>\n      <td>Astrophysics and Astronomy</td>\n      <td>Human-generated text</td>\n      <td>Relative navigation is one of the key enable t...</td>\n      <td>[relative, navigation, key, enable, technology...</td>\n      <td>0.648438</td>\n      <td>4.222171</td>\n      <td>68.181373</td>\n      <td>9.904276</td>\n      <td>0.000000</td>\n      <td>[((relative, navigation), 5), ((non, cooperati...</td>\n      <td>[((non, cooperative, target), 4), ((angles, re...</td>\n      <td>0.007812</td>\n      <td>0.039062</td>\n      <td>0.294118</td>\n      <td>7.312500</td>\n      <td>19.538462</td>\n    </tr>\n    <tr>\n      <th>2</th>\n      <td>Astrophysics and Astronomy</td>\n      <td>Human-generated text</td>\n      <td>In recent years, the technology of space tethe...</td>\n      <td>[recent, year, technology, space, tether, draw...</td>\n      <td>0.740000</td>\n      <td>4.122402</td>\n      <td>61.707279</td>\n      <td>6.318098</td>\n      <td>0.000000</td>\n      <td>[((space, mission), 2), ((end, body), 2), ((sp...</td>\n      <td>[((recent, year, technology), 1), ((year, tech...</td>\n      <td>0.000000</td>\n      <td>0.090000</td>\n      <td>0.181818</td>\n      <td>6.800000</td>\n      <td>30.714286</td>\n    </tr>\n    <tr>\n      <th>3</th>\n      <td>Astrophysics and Astronomy</td>\n      <td>Human-generated text</td>\n      <td>In celestial mechanics and mathematics, dynami...</td>\n      <td>[celestial, mechanic, mathematic, dynamical, s...</td>\n      <td>0.758621</td>\n      <td>4.316672</td>\n      <td>74.938812</td>\n      <td>13.891882</td>\n      <td>6.500000</td>\n      <td>[((configuration, primary), 3), ((body, proble...</td>\n      <td>[((celestial, mechanic, mathematic), 1), ((mec...</td>\n      <td>0.017241</td>\n      <td>0.051724</td>\n      <td>0.222222</td>\n      <td>7.387931</td>\n      <td>31.375000</td>\n    </tr>\n    <tr>\n      <th>4</th>\n      <td>Astrophysics and Astronomy</td>\n      <td>Human-generated text</td>\n      <td>The study of attitude dynamics within a three-...</td>\n      <td>[study, attitude, dynamic, body, problem, esse...</td>\n      <td>0.884058</td>\n      <td>4.058210</td>\n      <td>57.870636</td>\n      <td>13.928388</td>\n      <td>0.000000</td>\n      <td>[((study, attitude), 1), ((attitude, dynamic),...</td>\n      <td>[((study, attitude, dynamic), 1), ((attitude, ...</td>\n      <td>0.000000</td>\n      <td>0.043478</td>\n      <td>0.750000</td>\n      <td>7.304348</td>\n      <td>56.000000</td>\n    </tr>\n    <tr>\n      <th>...</th>\n      <td>...</td>\n      <td>...</td>\n      <td>...</td>\n      <td>...</td>\n      <td>...</td>\n      <td>...</td>\n      <td>...</td>\n      <td>...</td>\n      <td>...</td>\n      <td>...</td>\n      <td>...</td>\n      <td>...</td>\n      <td>...</td>\n      <td>...</td>\n      <td>...</td>\n      <td>...</td>\n    </tr>\n    <tr>\n      <th>95</th>\n      <td>Astrophysics and Astronomy</td>\n      <td>Human-generated text</td>\n      <td>After two attempts on the evenings of July 19 ...</td>\n      <td>[attempt, evening, july, july, observatory, la...</td>\n      <td>0.767857</td>\n      <td>4.333932</td>\n      <td>76.243515</td>\n      <td>7.071068</td>\n      <td>4.123525</td>\n      <td>[((space, shuttle), 2), ((attempt, evening), 1...</td>\n      <td>[((attempt, evening, july), 1), ((evening, jul...</td>\n      <td>0.000000</td>\n      <td>0.044643</td>\n      <td>0.333333</td>\n      <td>6.330357</td>\n      <td>23.000000</td>\n    </tr>\n    <tr>\n      <th>96</th>\n      <td>Astrophysics and Astronomy</td>\n      <td>Human-generated text</td>\n      <td>The spectropolarimeter described by Miller et ...</td>\n      <td>[spectropolarimeter, describe, miller, achroma...</td>\n      <td>0.827160</td>\n      <td>4.111034</td>\n      <td>61.009768</td>\n      <td>9.781282</td>\n      <td>5.940539</td>\n      <td>[((dual, beam), 2), ((frequency, high), 2), ((...</td>\n      <td>[((spectropolarimeter, describe, miller), 1), ...</td>\n      <td>0.000000</td>\n      <td>0.061728</td>\n      <td>0.500000</td>\n      <td>7.802469</td>\n      <td>24.428571</td>\n    </tr>\n    <tr>\n      <th>97</th>\n      <td>Astrophysics and Astronomy</td>\n      <td>Human-generated text</td>\n      <td>Astronomical optical telescopes use glass or c...</td>\n      <td>[astronomical, optical, telescope, use, glass,...</td>\n      <td>0.739130</td>\n      <td>4.036732</td>\n      <td>56.640947</td>\n      <td>15.563880</td>\n      <td>3.623381</td>\n      <td>[((liquid, mirror), 4), ((observe, strip), 2),...</td>\n      <td>[((astronomical, optical, telescope), 1), ((op...</td>\n      <td>0.000000</td>\n      <td>0.076087</td>\n      <td>0.500000</td>\n      <td>6.989130</td>\n      <td>28.625000</td>\n    </tr>\n    <tr>\n      <th>98</th>\n      <td>Astrophysics and Astronomy</td>\n      <td>Human-generated text</td>\n      <td>A continuous scanning of the sky using CCDs im...</td>\n      <td>[continuous, scanning, sky, ccds, imply, speci...</td>\n      <td>0.813725</td>\n      <td>4.331952</td>\n      <td>76.092691</td>\n      <td>9.764576</td>\n      <td>6.127889</td>\n      <td>[((high, resolution), 2), ((continuous, scanni...</td>\n      <td>[((continuous, scanning, sky), 1), ((scanning,...</td>\n      <td>0.000000</td>\n      <td>0.049020</td>\n      <td>0.428571</td>\n      <td>6.411765</td>\n      <td>31.714286</td>\n    </tr>\n    <tr>\n      <th>99</th>\n      <td>Astrophysics and Astronomy</td>\n      <td>Human-generated text</td>\n      <td>Due to the inherent design of the intensified ...</td>\n      <td>[inherent, design, intensify, imager, involve,...</td>\n      <td>0.804598</td>\n      <td>4.139097</td>\n      <td>62.746123</td>\n      <td>12.688578</td>\n      <td>6.492208</td>\n      <td>[((good, astrometry), 2), ((inherent, design),...</td>\n      <td>[((inherent, design, intensify), 1), ((design,...</td>\n      <td>0.000000</td>\n      <td>0.068966</td>\n      <td>0.300000</td>\n      <td>6.747126</td>\n      <td>25.000000</td>\n    </tr>\n  </tbody>\n</table>\n<p>100 rows × 16 columns</p>\n</div>"
     },
     "execution_count": 13,
     "metadata": {},
     "output_type": "execute_result"
    }
   ],
   "source": [
    "df.head()"
   ],
   "metadata": {
    "collapsed": false,
    "ExecuteTime": {
     "end_time": "2025-03-10T21:18:05.351189200Z",
     "start_time": "2025-03-10T21:18:05.273958Z"
    }
   },
   "id": "cb2828e92267ac5d"
  },
  {
   "cell_type": "code",
   "execution_count": 11,
   "outputs": [],
   "source": [
    "df.to_csv('../data/dataset_2/preprocessed_df_custom_features.csv', index=False)"
   ],
   "metadata": {
    "collapsed": false,
    "ExecuteTime": {
     "end_time": "2025-03-10T21:17:01.666828100Z",
     "start_time": "2025-03-10T21:17:01.405874600Z"
    }
   },
   "id": "b89a8af5d78dc1b4"
  },
  {
   "cell_type": "markdown",
   "source": [],
   "metadata": {
    "collapsed": false
   },
   "id": "fad63c1649a8638d"
  },
  {
   "cell_type": "code",
   "execution_count": 14,
   "outputs": [
    {
     "data": {
      "text/plain": "((2100, 16), (900, 16))"
     },
     "execution_count": 14,
     "metadata": {},
     "output_type": "execute_result"
    }
   ],
   "source": [
    "df_train, df_test = train_test_split(df, train_size=0.7, random_state=42, stratify=df['Class'])\n",
    "\n",
    "df_train.shape, df_test.shape"
   ],
   "metadata": {
    "collapsed": false,
    "ExecuteTime": {
     "end_time": "2025-03-10T21:28:13.260998900Z",
     "start_time": "2025-03-10T21:28:13.061020200Z"
    }
   },
   "id": "f621c4ce451ba92c"
  },
  {
   "cell_type": "markdown",
   "source": [],
   "metadata": {
    "collapsed": false
   },
   "id": "cfefaf7aaf8dffce"
  },
  {
   "cell_type": "code",
   "execution_count": 15,
   "outputs": [],
   "source": [
    "feature_columns = ['ttr', 'entropy', 'perplexity', 'sentence_var', 'paragraph_var', 'abstractness', 'repetitiveness', 'syntactic_complexity', 'avg_word_length', 'avg_sentence_length']\n",
    "X_train, X_test = df_train[feature_columns], df_test[feature_columns]"
   ],
   "metadata": {
    "collapsed": false,
    "ExecuteTime": {
     "end_time": "2025-03-10T21:28:25.887572400Z",
     "start_time": "2025-03-10T21:28:25.856920800Z"
    }
   },
   "id": "420a88990fb89be3"
  },
  {
   "cell_type": "code",
   "execution_count": 16,
   "outputs": [
    {
     "name": "stdout",
     "output_type": "stream",
     "text": [
      "Klasy: ['ChatGPT-generated text' 'Human-generated text' 'Mixed text']\n"
     ]
    }
   ],
   "source": [
    "label_encoder = LabelEncoder()\n",
    "y_train = label_encoder.fit_transform(df_train['Class'])\n",
    "y_test = label_encoder.transform(df_test['Class'])\n",
    "\n",
    "joblib.dump(label_encoder, '../models/dataset_2/label_encoder.joblib')\n",
    "print(\"Klasy:\", label_encoder.classes_)"
   ],
   "metadata": {
    "collapsed": false,
    "ExecuteTime": {
     "end_time": "2025-03-10T21:28:26.923397500Z",
     "start_time": "2025-03-10T21:28:26.878788900Z"
    }
   },
   "id": "1df90106b2581c48"
  },
  {
   "cell_type": "markdown",
   "source": [],
   "metadata": {
    "collapsed": false
   },
   "id": "b95bca64f1878a0e"
  },
  {
   "cell_type": "code",
   "execution_count": 18,
   "outputs": [
    {
     "name": "stdout",
     "output_type": "stream",
     "text": [
      "\n",
      "Przetwarzanie modelu: LR\n",
      "Fitting 5 folds for each of 12 candidates, totalling 60 fits\n"
     ]
    },
    {
     "name": "stderr",
     "output_type": "stream",
     "text": [
      "C:\\Users\\weran\\PycharmProjects\\magisterka\\venv\\lib\\site-packages\\sklearn\\model_selection\\_validation.py:528: FitFailedWarning: \n",
      "15 fits failed out of a total of 60.\n",
      "The score on these train-test partitions for these parameters will be set to nan.\n",
      "If these failures are not expected, you can try to debug them by setting error_score='raise'.\n",
      "\n",
      "Below are more details about the failures:\n",
      "--------------------------------------------------------------------------------\n",
      "15 fits failed with the following error:\n",
      "Traceback (most recent call last):\n",
      "  File \"C:\\Users\\weran\\PycharmProjects\\magisterka\\venv\\lib\\site-packages\\sklearn\\model_selection\\_validation.py\", line 866, in _fit_and_score\n",
      "    estimator.fit(X_train, y_train, **fit_params)\n",
      "  File \"C:\\Users\\weran\\PycharmProjects\\magisterka\\venv\\lib\\site-packages\\sklearn\\base.py\", line 1389, in wrapper\n",
      "    return fit_method(estimator, *args, **kwargs)\n",
      "  File \"C:\\Users\\weran\\PycharmProjects\\magisterka\\venv\\lib\\site-packages\\sklearn\\linear_model\\_logistic.py\", line 1193, in fit\n",
      "    solver = _check_solver(self.solver, self.penalty, self.dual)\n",
      "  File \"C:\\Users\\weran\\PycharmProjects\\magisterka\\venv\\lib\\site-packages\\sklearn\\linear_model\\_logistic.py\", line 63, in _check_solver\n",
      "    raise ValueError(\n",
      "ValueError: Solver lbfgs supports only 'l2' or None penalties, got l1 penalty.\n",
      "\n",
      "  warnings.warn(some_fits_failed_message, FitFailedWarning)\n",
      "C:\\Users\\weran\\PycharmProjects\\magisterka\\venv\\lib\\site-packages\\sklearn\\model_selection\\_search.py:1108: UserWarning: One or more of the test scores are non-finite: [0.44333333        nan 0.4547619  0.45809524 0.45571429        nan\n",
      " 0.45428571 0.45619048 0.4547619         nan 0.4552381  0.45190476]\n",
      "  warnings.warn(\n",
      "C:\\Users\\weran\\PycharmProjects\\magisterka\\venv\\lib\\site-packages\\sklearn\\linear_model\\_logistic.py:1247: FutureWarning: 'multi_class' was deprecated in version 1.5 and will be removed in 1.7. From then on, it will always use 'multinomial'. Leave it to its default value to avoid this warning.\n",
      "  warnings.warn(\n"
     ]
    },
    {
     "name": "stdout",
     "output_type": "stream",
     "text": [
      "Najlepsze parametry dla LR: {'C': 0.1, 'penalty': 'l2', 'solver': 'lbfgs'}\n",
      "Najlepsza dokładność (CV) dla LR: 0.4581\n",
      "Model LR zapisany jako: ../models/dataset_2\\LR_best_model_d2v_dataset2.pkl\n",
      "Dokładność na zbiorze testowym: 0.4622\n"
     ]
    },
    {
     "name": "stderr",
     "output_type": "stream",
     "text": [
      "C:\\Users\\weran\\PycharmProjects\\magisterka\\venv\\lib\\site-packages\\sklearn\\linear_model\\_logistic.py:465: ConvergenceWarning: lbfgs failed to converge (status=1):\n",
      "STOP: TOTAL NO. of ITERATIONS REACHED LIMIT.\n",
      "\n",
      "Increase the number of iterations (max_iter) or scale the data as shown in:\n",
      "    https://scikit-learn.org/stable/modules/preprocessing.html\n",
      "Please also refer to the documentation for alternative solver options:\n",
      "    https://scikit-learn.org/stable/modules/linear_model.html#logistic-regression\n",
      "  n_iter_i = _check_optimize_result(\n"
     ]
    }
   ],
   "source": [
    "models_and_parameters = {\n",
    "    'model_name': 'LR',\n",
    "    'estimator': LogisticRegression(max_iter=1000, multi_class='multinomial', random_state=42),\n",
    "    'param_grid': {\n",
    "        'C': [0.1, 1, 10],\n",
    "        'penalty': ['l1', 'l2'],\n",
    "        'solver': ['saga', 'lbfgs']\n",
    "    }\n",
    "}\n",
    "\n",
    "model_name = models_and_parameters['model_name']\n",
    "\n",
    "print(f\"\\nPrzetwarzanie modelu: {model_name}\")\n",
    "estimator = models_and_parameters['estimator']\n",
    "param_grid = models_and_parameters['param_grid']\n",
    "\n",
    "grid = GridSearchCV(estimator, param_grid, cv=5, scoring='accuracy', n_jobs=-1, verbose=2)\n",
    "grid.fit(X_train, y_train)\n",
    "\n",
    "print(f\"Najlepsze parametry dla {model_name}: {grid.best_params_}\")\n",
    "print(f\"Najlepsza dokładność (CV) dla {model_name}: {grid.best_score_:.4f}\")\n",
    "\n",
    "model_filename = os.path.join('../models/dataset_2', f'{model_name}_best_model_custom_dataset2.pkl')\n",
    "joblib.dump(grid.best_estimator_, model_filename)\n",
    "print(f\"Model {model_name} zapisany jako: {model_filename}\")\n",
    "\n",
    "best_model = grid.best_estimator_\n",
    "y_pred = best_model.predict(X_test)\n",
    "accuracy = accuracy_score(y_test, y_pred)\n",
    "print(f'Dokładność na zbiorze testowym: {accuracy:.4f}')"
   ],
   "metadata": {
    "collapsed": false,
    "ExecuteTime": {
     "end_time": "2025-03-10T21:31:47.228240600Z",
     "start_time": "2025-03-10T21:31:42.052693900Z"
    }
   },
   "id": "13cdc7c7c7bf79de"
  },
  {
   "cell_type": "code",
   "execution_count": 19,
   "outputs": [
    {
     "name": "stdout",
     "output_type": "stream",
     "text": [
      "\n",
      "Przetwarzanie modelu: DT\n",
      "Fitting 5 folds for each of 200 candidates, totalling 1000 fits\n",
      "Najlepsze parametry dla DT: {'criterion': 'entropy', 'max_depth': 5, 'min_samples_leaf': 1, 'min_samples_split': 20}\n",
      "Najlepsza dokładność (CV) dla DT: 0.5267\n",
      "Model DT zapisany jako: ../models/dataset_2\\DT_best_model_d2v_dataset2.pkl\n",
      "Dokładność na zbiorze testowym: 0.5056\n"
     ]
    }
   ],
   "source": [
    "models_and_parameters = {\n",
    "    'model_name': 'DT',\n",
    "    'estimator': DecisionTreeClassifier(random_state=42),\n",
    "    'param_grid': {\n",
    "        'criterion': ['gini', 'entropy'],\n",
    "        'max_depth': [None, 5, 10, 15, 20],\n",
    "        'min_samples_split': [2, 5, 10, 15, 20],\n",
    "        'min_samples_leaf': [1, 2, 5, 10]\n",
    "    }\n",
    "}\n",
    "\n",
    "model_name = models_and_parameters['model_name']\n",
    "\n",
    "print(f\"\\nPrzetwarzanie modelu: {model_name}\")\n",
    "estimator = models_and_parameters['estimator']\n",
    "param_grid = models_and_parameters['param_grid']\n",
    "\n",
    "grid = GridSearchCV(estimator, param_grid, cv=5, scoring='accuracy', n_jobs=-1, verbose=3)\n",
    "grid.fit(X_train, y_train)\n",
    "\n",
    "print(f\"Najlepsze parametry dla {model_name}: {grid.best_params_}\")\n",
    "print(f\"Najlepsza dokładność (CV) dla {model_name}: {grid.best_score_:.4f}\")\n",
    "\n",
    "model_filename = os.path.join('../models/dataset_2', f'{model_name}_best_model_custom_dataset2.pkl')\n",
    "joblib.dump(grid.best_estimator_, model_filename)\n",
    "print(f\"Model {model_name} zapisany jako: {model_filename}\")\n",
    "\n",
    "best_model = grid.best_estimator_\n",
    "y_pred = best_model.predict(X_test)\n",
    "accuracy = accuracy_score(y_test, y_pred)\n",
    "print(f'Dokładność na zbiorze testowym: {accuracy:.4f}')"
   ],
   "metadata": {
    "collapsed": false,
    "ExecuteTime": {
     "end_time": "2025-03-10T21:32:50.676272100Z",
     "start_time": "2025-03-10T21:32:45.222052300Z"
    }
   },
   "id": "bf9f9074640528d3"
  },
  {
   "cell_type": "code",
   "execution_count": 21,
   "outputs": [
    {
     "name": "stdout",
     "output_type": "stream",
     "text": [
      "\n",
      "Przetwarzanie modelu: RF\n",
      "Fitting 5 folds for each of 162 candidates, totalling 810 fits\n",
      "Najlepsze parametry dla RF: {'criterion': 'entropy', 'max_depth': 10, 'min_samples_leaf': 5, 'min_samples_split': 2, 'n_estimators': 50}\n",
      "Najlepsza dokładność (CV) dla RF: 0.5314\n",
      "Model RF zapisany jako: ../models/dataset_2\\RF_best_model_custom_dataset2.pkl\n",
      "Dokładność na zbiorze testowym: 0.4956\n"
     ]
    }
   ],
   "source": [
    "models_and_parameters = {\n",
    "    'model_name': 'RF',\n",
    "    'estimator': RandomForestClassifier(random_state=42),\n",
    "    'param_grid': {\n",
    "        'n_estimators': [50, 100, 200],\n",
    "        'criterion': ['gini', 'entropy'],\n",
    "        'max_depth': [None, 10, 20],\n",
    "        'min_samples_split': [2, 5, 10],\n",
    "        'min_samples_leaf': [1, 2, 5]\n",
    "    }\n",
    "}\n",
    "\n",
    "model_name = models_and_parameters['model_name']\n",
    "\n",
    "print(f\"\\nPrzetwarzanie modelu: {model_name}\")\n",
    "estimator = models_and_parameters['estimator']\n",
    "param_grid = models_and_parameters['param_grid']\n",
    "\n",
    "grid = GridSearchCV(estimator, param_grid, cv=5, scoring='accuracy', n_jobs=-1, verbose=2)\n",
    "grid.fit(X_train, y_train)\n",
    "\n",
    "print(f\"Najlepsze parametry dla {model_name}: {grid.best_params_}\")\n",
    "print(f\"Najlepsza dokładność (CV) dla {model_name}: {grid.best_score_:.4f}\")\n",
    "\n",
    "model_filename = os.path.join('../models/dataset_2', f'{model_name}_best_model_custom_dataset2.pkl')\n",
    "joblib.dump(grid.best_estimator_, model_filename)\n",
    "print(f\"Model {model_name} zapisany jako: {model_filename}\")\n",
    "\n",
    "best_model = grid.best_estimator_\n",
    "y_pred = best_model.predict(X_test)\n",
    "accuracy = accuracy_score(y_test, y_pred)\n",
    "print(f'Dokładność na zbiorze testowym: {accuracy:.4f}')"
   ],
   "metadata": {
    "collapsed": false,
    "ExecuteTime": {
     "end_time": "2025-03-10T21:37:04.403867800Z",
     "start_time": "2025-03-10T21:34:59.999614100Z"
    }
   },
   "id": "bcaf83b9d85bcc8f"
  },
  {
   "cell_type": "code",
   "execution_count": 22,
   "outputs": [
    {
     "name": "stdout",
     "output_type": "stream",
     "text": [
      "\n",
      "Przetwarzanie modelu: NB\n",
      "Fitting 5 folds for each of 3 candidates, totalling 15 fits\n",
      "Najlepsze parametry dla NB: {'var_smoothing': 1e-07}\n",
      "Najlepsza dokładność (CV) dla NB: 0.4433\n",
      "Model NB zapisany jako: ../models/dataset_2\\NB_best_model_custom_dataset2.pkl\n",
      "Dokładność na zbiorze testowym: 0.4356\n"
     ]
    }
   ],
   "source": [
    "models_and_parameters = {\n",
    "    'model_name': 'NB',\n",
    "    'estimator': GaussianNB(),\n",
    "    'param_grid': {\n",
    "    'var_smoothing': [1e-9, 1e-8, 1e-7]\n",
    "    }\n",
    "}\n",
    "\n",
    "model_name = models_and_parameters['model_name']\n",
    "\n",
    "print(f\"\\nPrzetwarzanie modelu: {model_name}\")\n",
    "estimator = models_and_parameters['estimator']\n",
    "param_grid = models_and_parameters['param_grid']\n",
    "\n",
    "grid = GridSearchCV(estimator, param_grid, cv=5, scoring='accuracy', n_jobs=-1, verbose=2)\n",
    "grid.fit(X_train, y_train)\n",
    "\n",
    "print(f\"Najlepsze parametry dla {model_name}: {grid.best_params_}\")\n",
    "print(f\"Najlepsza dokładność (CV) dla {model_name}: {grid.best_score_:.4f}\")\n",
    "\n",
    "model_filename = os.path.join('../models/dataset_2', f'{model_name}_best_model_custom_dataset2.pkl')\n",
    "joblib.dump(grid.best_estimator_, model_filename)\n",
    "print(f\"Model {model_name} zapisany jako: {model_filename}\")\n",
    "\n",
    "best_model = grid.best_estimator_\n",
    "y_pred = best_model.predict(X_test)\n",
    "accuracy = accuracy_score(y_test, y_pred)\n",
    "print(f'Dokładność na zbiorze testowym: {accuracy:.4f}')"
   ],
   "metadata": {
    "collapsed": false,
    "ExecuteTime": {
     "end_time": "2025-03-10T21:38:22.543794800Z",
     "start_time": "2025-03-10T21:38:22.438952Z"
    }
   },
   "id": "3a68ca1cad615456"
  },
  {
   "cell_type": "code",
   "execution_count": 23,
   "outputs": [
    {
     "name": "stdout",
     "output_type": "stream",
     "text": [
      "\n",
      "Przetwarzanie modelu: KNN\n",
      "Fitting 5 folds for each of 18 candidates, totalling 90 fits\n",
      "Najlepsze parametry dla KNN: {'metric': 'manhattan', 'n_neighbors': 20, 'weights': 'uniform'}\n",
      "Najlepsza dokładność (CV) dla KNN: 0.4995\n",
      "Model KNN zapisany jako: ../models/dataset_2\\KNN_best_model_custom_dataset2.pkl\n",
      "Dokładność na zbiorze testowym: 0.4811\n"
     ]
    }
   ],
   "source": [
    "models_and_parameters = {\n",
    "    'model_name': 'KNN',\n",
    "    'estimator': KNeighborsClassifier(),\n",
    "    'param_grid': {\n",
    "        'n_neighbors': [5, 10, 20],\n",
    "        'metric': ['minkowski', 'euclidean', 'manhattan'],\n",
    "        'weights': ['uniform', 'distance']\n",
    "    }\n",
    "}\n",
    "\n",
    "model_name = models_and_parameters['model_name']\n",
    "\n",
    "print(f\"\\nPrzetwarzanie modelu: {model_name}\")\n",
    "estimator = models_and_parameters['estimator']\n",
    "param_grid = models_and_parameters['param_grid']\n",
    "\n",
    "grid = GridSearchCV(estimator, param_grid, cv=5, scoring='accuracy', n_jobs=-1, verbose=2)\n",
    "grid.fit(X_train, y_train)\n",
    "\n",
    "print(f\"Najlepsze parametry dla {model_name}: {grid.best_params_}\")\n",
    "print(f\"Najlepsza dokładność (CV) dla {model_name}: {grid.best_score_:.4f}\")\n",
    "\n",
    "model_filename = os.path.join('../models/dataset_2', f'{model_name}_best_model_custom_dataset2.pkl')\n",
    "joblib.dump(grid.best_estimator_, model_filename)\n",
    "print(f\"Model {model_name} zapisany jako: {model_filename}\")\n",
    "\n",
    "best_model = grid.best_estimator_\n",
    "y_pred = best_model.predict(X_test)\n",
    "accuracy = accuracy_score(y_test, y_pred)\n",
    "print(f'Dokładność na zbiorze testowym: {accuracy:.4f}')"
   ],
   "metadata": {
    "collapsed": false,
    "ExecuteTime": {
     "end_time": "2025-03-10T21:39:14.775507200Z",
     "start_time": "2025-03-10T21:39:14.326156600Z"
    }
   },
   "id": "14ee621b1eeb109b"
  },
  {
   "cell_type": "code",
   "execution_count": 24,
   "outputs": [
    {
     "name": "stdout",
     "output_type": "stream",
     "text": [
      "\n",
      "Przetwarzanie modelu: SVM\n",
      "Fitting 5 folds for each of 24 candidates, totalling 120 fits\n",
      "Najlepsze parametry dla SVM: {'C': 10, 'decision_function_shape': 'ovo', 'gamma': 'scale', 'kernel': 'linear'}\n",
      "Najlepsza dokładność (CV) dla SVM: 0.4652\n",
      "Model SVM zapisany jako: ../models/dataset_2\\SVM_best_model_custom_dataset2.pkl\n",
      "Dokładność na zbiorze testowym: 0.4544\n"
     ]
    }
   ],
   "source": [
    "models_and_parameters = {\n",
    "    'model_name': 'SVM',\n",
    "    'estimator': SVC(random_state=42),\n",
    "    'param_grid': {\n",
    "        'C': [0.1, 1, 10],\n",
    "        'kernel': ['linear', 'rbf'],\n",
    "        'gamma': ['scale', 'auto'],\n",
    "        'decision_function_shape': ['ovo', 'ovr']\n",
    "    }\n",
    "}\n",
    "\n",
    "model_name = models_and_parameters['model_name']\n",
    "\n",
    "print(f\"\\nPrzetwarzanie modelu: {model_name}\")\n",
    "estimator = models_and_parameters['estimator']\n",
    "param_grid = models_and_parameters['param_grid']\n",
    "\n",
    "grid = GridSearchCV(estimator, param_grid, cv=5, scoring='accuracy', n_jobs=-1, verbose=2)\n",
    "grid.fit(X_train, y_train)\n",
    "\n",
    "print(f\"Najlepsze parametry dla {model_name}: {grid.best_params_}\")\n",
    "print(f\"Najlepsza dokładność (CV) dla {model_name}: {grid.best_score_:.4f}\")\n",
    "\n",
    "model_filename = os.path.join('../models/dataset_2', f'{model_name}_best_model_custom_dataset2.pkl')\n",
    "joblib.dump(grid.best_estimator_, model_filename)\n",
    "print(f\"Model {model_name} zapisany jako: {model_filename}\")\n",
    "\n",
    "best_model = grid.best_estimator_\n",
    "y_pred = best_model.predict(X_test)\n",
    "accuracy = accuracy_score(y_test, y_pred)\n",
    "print(f'Dokładność na zbiorze testowym: {accuracy:.4f}')"
   ],
   "metadata": {
    "collapsed": false,
    "ExecuteTime": {
     "end_time": "2025-03-10T21:40:54.796478600Z",
     "start_time": "2025-03-10T21:39:22.429081900Z"
    }
   },
   "id": "ba7f1ad5bc5a59d3"
  },
  {
   "cell_type": "code",
   "execution_count": 26,
   "outputs": [
    {
     "name": "stdout",
     "output_type": "stream",
     "text": [
      "\n",
      "Przetwarzanie modelu: MLP\n",
      "Fitting 5 folds for each of 243 candidates, totalling 1215 fits\n",
      "Najlepsze parametry dla MLP: {'activation': 'relu', 'alpha': 0.001, 'hidden_layer_sizes': (100, 50, 25), 'learning_rate': 'constant', 'solver': 'lbfgs'}\n",
      "Najlepsza dokładność (CV) dla MLP: 0.5471\n",
      "Model MLP zapisany jako: ../models/dataset_2\\MLP_best_model_custom_dataset2.pkl\n",
      "Dokładność na zbiorze testowym: 0.5367\n"
     ]
    },
    {
     "name": "stderr",
     "output_type": "stream",
     "text": [
      "C:\\Users\\weran\\PycharmProjects\\magisterka\\venv\\lib\\site-packages\\sklearn\\neural_network\\_multilayer_perceptron.py:546: ConvergenceWarning: lbfgs failed to converge (status=1):\n",
      "STOP: TOTAL NO. of ITERATIONS REACHED LIMIT.\n",
      "\n",
      "Increase the number of iterations (max_iter) or scale the data as shown in:\n",
      "    https://scikit-learn.org/stable/modules/preprocessing.html\n",
      "  self.n_iter_ = _check_optimize_result(\"lbfgs\", opt_res, self.max_iter)\n"
     ]
    }
   ],
   "source": [
    "models_and_parameters = {\n",
    "    'model_name': 'MLP',\n",
    "        'estimator': MLPClassifier(random_state=42, early_stopping=True, n_iter_no_change=5),\n",
    "        'param_grid': {\n",
    "            'hidden_layer_sizes': [(100,), (50,50), (100,50,25)],\n",
    "            'activation': ['relu', 'tanh', 'logistic'],\n",
    "            'solver': ['adam', 'sgd', 'lbfgs'],\n",
    "            'alpha': [0.0001, 0.001, 0.01],\n",
    "            'learning_rate': ['constant', 'adaptive', 'invscaling']\n",
    "    }\n",
    "}\n",
    "\n",
    "model_name = models_and_parameters['model_name']\n",
    "\n",
    "print(f\"\\nPrzetwarzanie modelu: {model_name}\")\n",
    "estimator = models_and_parameters['estimator']\n",
    "param_grid = models_and_parameters['param_grid']\n",
    "\n",
    "grid = GridSearchCV(estimator, param_grid, cv=5, scoring='accuracy', n_jobs=-1, verbose=2)\n",
    "grid.fit(X_train, y_train)\n",
    "\n",
    "print(f\"Najlepsze parametry dla {model_name}: {grid.best_params_}\")\n",
    "print(f\"Najlepsza dokładność (CV) dla {model_name}: {grid.best_score_:.4f}\")\n",
    "\n",
    "model_filename = os.path.join('../models/dataset_2', f'{model_name}_best_model_custom_dataset2.pkl')\n",
    "joblib.dump(grid.best_estimator_, model_filename)\n",
    "print(f\"Model {model_name} zapisany jako: {model_filename}\")\n",
    "\n",
    "best_model = grid.best_estimator_\n",
    "y_pred = best_model.predict(X_test)\n",
    "accuracy = accuracy_score(y_test, y_pred)\n",
    "print(f'Dokładność na zbiorze testowym: {accuracy:.4f}')"
   ],
   "metadata": {
    "collapsed": false,
    "ExecuteTime": {
     "end_time": "2025-03-10T21:54:05.423886200Z",
     "start_time": "2025-03-10T21:49:06.947673200Z"
    }
   },
   "id": "a6f9bde7fe43a754"
  },
  {
   "cell_type": "code",
   "execution_count": null,
   "outputs": [],
   "source": [],
   "metadata": {
    "collapsed": false
   },
   "id": "a694473af4aa79c3"
  }
 ],
 "metadata": {
  "kernelspec": {
   "display_name": "Python 3",
   "language": "python",
   "name": "python3"
  },
  "language_info": {
   "codemirror_mode": {
    "name": "ipython",
    "version": 2
   },
   "file_extension": ".py",
   "mimetype": "text/x-python",
   "name": "python",
   "nbconvert_exporter": "python",
   "pygments_lexer": "ipython2",
   "version": "2.7.6"
  }
 },
 "nbformat": 4,
 "nbformat_minor": 5
}
